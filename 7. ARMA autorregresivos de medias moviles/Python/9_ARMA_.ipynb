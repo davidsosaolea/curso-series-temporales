{
  "cells": [
    {
      "cell_type": "markdown",
      "metadata": {
        "colab_type": "text",
        "id": "iP7zmfjO7rUA"
      },
      "source": [
        "## Importing the relevant packages"
      ]
    },
    {
      "cell_type": "code",
      "execution_count": 1,
      "metadata": {
        "colab": {},
        "colab_type": "code",
        "id": "7q1J9DDg7rUB"
      },
      "outputs": [],
      "source": [
        "import pandas as pd\n",
        "import numpy as np\n",
        "import matplotlib.pyplot as plt\n",
        "import statsmodels.graphics.tsaplots as sgt\n",
        "import statsmodels.tsa.stattools as sts\n",
        "from statsmodels.tsa.arima_model import ARMA\n",
        "from scipy.stats.distributions import chi2 \n",
        "from statsmodels.tsa.arima.model import ARIMA\n",
        "import seaborn as sns\n",
        "sns.set()"
      ]
    },
    {
      "cell_type": "markdown",
      "metadata": {
        "colab_type": "text",
        "id": "zf9H9nKL7rUE"
      },
      "source": [
        "## Importing the Data and Pre-processing "
      ]
    },
    {
      "cell_type": "code",
      "execution_count": 2,
      "metadata": {
        "colab": {},
        "colab_type": "code",
        "id": "jIQePDWc7rUF"
      },
      "outputs": [
        {
          "name": "stderr",
          "output_type": "stream",
          "text": [
            "/tmp/ipykernel_1265/2050007954.py:6: FutureWarning: DataFrame.fillna with 'method' is deprecated and will raise in a future version. Use obj.ffill() or obj.bfill() instead.\n",
            "  df_comp=df_comp.fillna(method='ffill')\n"
          ]
        }
      ],
      "source": [
        "raw_csv_data = pd.read_csv(\"Index2018.csv\") \n",
        "df_comp=raw_csv_data.copy()\n",
        "df_comp.date = pd.to_datetime(df_comp.date, dayfirst = True)\n",
        "df_comp.set_index(\"date\", inplace=True)\n",
        "df_comp=df_comp.asfreq('b')\n",
        "df_comp=df_comp.fillna(method='ffill')"
      ]
    },
    {
      "cell_type": "code",
      "execution_count": 3,
      "metadata": {
        "colab": {},
        "colab_type": "code",
        "id": "lDHBuFhZ7rUI"
      },
      "outputs": [],
      "source": [
        "df_comp['market_value']=df_comp.ftse"
      ]
    },
    {
      "cell_type": "code",
      "execution_count": 4,
      "metadata": {
        "colab": {},
        "colab_type": "code",
        "id": "0pMh6mFJ7rUL"
      },
      "outputs": [],
      "source": [
        "del df_comp['spx']\n",
        "del df_comp['dax']\n",
        "del df_comp['ftse']\n",
        "del df_comp['nikkei']\n",
        "size = int(len(df_comp)*0.8)\n",
        "df, df_test = df_comp.iloc[:size], df_comp.iloc[size:]"
      ]
    },
    {
      "cell_type": "code",
      "execution_count": 5,
      "metadata": {
        "colab": {},
        "colab_type": "code",
        "id": "JGaU4UAk7rUN"
      },
      "outputs": [],
      "source": [
        "import warnings\n",
        "warnings.filterwarnings(\"ignore\")"
      ]
    },
    {
      "cell_type": "markdown",
      "metadata": {
        "colab_type": "text",
        "id": "W6_wEjGH7rUQ"
      },
      "source": [
        "## The LLR Test"
      ]
    },
    {
      "cell_type": "code",
      "execution_count": 6,
      "metadata": {
        "colab": {},
        "colab_type": "code",
        "id": "gG6DHTDk7rUQ"
      },
      "outputs": [],
      "source": [
        "def LLR_test(mod_1, mod_2, DF = 1):\n",
        "    L1 = mod_1.llf\n",
        "    L2 = mod_2.llf\n",
        "    LR = (2*(L2-L1))    \n",
        "    p = chi2.sf(LR, DF).round(3)\n",
        "    return p"
      ]
    },
    {
      "cell_type": "markdown",
      "metadata": {
        "colab_type": "text",
        "id": "oDoi-j8T7rUT"
      },
      "source": [
        "## Creating Returns"
      ]
    },
    {
      "cell_type": "code",
      "execution_count": 7,
      "metadata": {
        "colab": {},
        "colab_type": "code",
        "id": "NaOskq9D7rUU",
        "scrolled": true
      },
      "outputs": [],
      "source": [
        "df['returns'] = df.market_value.pct_change(1)*100"
      ]
    },
    {
      "cell_type": "code",
      "execution_count": 8,
      "metadata": {
        "colab": {
          "base_uri": "https://localhost:8080/",
          "height": 223
        },
        "colab_type": "code",
        "id": "cAspgjtEsZdm",
        "outputId": "f283bead-dc30-453e-b284-65b0d0bb6dc2"
      },
      "outputs": [
        {
          "data": {
            "text/html": [
              "<div>\n",
              "<style scoped>\n",
              "    .dataframe tbody tr th:only-of-type {\n",
              "        vertical-align: middle;\n",
              "    }\n",
              "\n",
              "    .dataframe tbody tr th {\n",
              "        vertical-align: top;\n",
              "    }\n",
              "\n",
              "    .dataframe thead th {\n",
              "        text-align: right;\n",
              "    }\n",
              "</style>\n",
              "<table border=\"1\" class=\"dataframe\">\n",
              "  <thead>\n",
              "    <tr style=\"text-align: right;\">\n",
              "      <th></th>\n",
              "      <th>market_value</th>\n",
              "      <th>returns</th>\n",
              "    </tr>\n",
              "    <tr>\n",
              "      <th>date</th>\n",
              "      <th></th>\n",
              "      <th></th>\n",
              "    </tr>\n",
              "  </thead>\n",
              "  <tbody>\n",
              "    <tr>\n",
              "      <th>1994-01-07</th>\n",
              "      <td>3445.98</td>\n",
              "      <td>NaN</td>\n",
              "    </tr>\n",
              "    <tr>\n",
              "      <th>1994-01-10</th>\n",
              "      <td>3440.58</td>\n",
              "      <td>-0.156704</td>\n",
              "    </tr>\n",
              "    <tr>\n",
              "      <th>1994-01-11</th>\n",
              "      <td>3413.77</td>\n",
              "      <td>-0.779229</td>\n",
              "    </tr>\n",
              "    <tr>\n",
              "      <th>1994-01-12</th>\n",
              "      <td>3372.02</td>\n",
              "      <td>-1.222988</td>\n",
              "    </tr>\n",
              "    <tr>\n",
              "      <th>1994-01-13</th>\n",
              "      <td>3360.01</td>\n",
              "      <td>-0.356166</td>\n",
              "    </tr>\n",
              "  </tbody>\n",
              "</table>\n",
              "</div>"
            ],
            "text/plain": [
              "            market_value   returns\n",
              "date                              \n",
              "1994-01-07       3445.98       NaN\n",
              "1994-01-10       3440.58 -0.156704\n",
              "1994-01-11       3413.77 -0.779229\n",
              "1994-01-12       3372.02 -1.222988\n",
              "1994-01-13       3360.01 -0.356166"
            ]
          },
          "execution_count": 8,
          "metadata": {},
          "output_type": "execute_result"
        }
      ],
      "source": [
        "df.head()"
      ]
    },
    {
      "cell_type": "markdown",
      "metadata": {
        "colab_type": "text",
        "id": "jwDSkbUR7rUW"
      },
      "source": [
        "## ARMA(1,1)"
      ]
    },
    {
      "cell_type": "code",
      "execution_count": 9,
      "metadata": {},
      "outputs": [
        {
          "data": {
            "text/html": [
              "<table class=\"simpletable\">\n",
              "<caption>SARIMAX Results</caption>\n",
              "<tr>\n",
              "  <th>Dep. Variable:</th>        <td>returns</td>     <th>  No. Observations:  </th>   <td>5020</td>   \n",
              "</tr>\n",
              "<tr>\n",
              "  <th>Model:</th>            <td>ARIMA(1, 0, 1)</td>  <th>  Log Likelihood     </th> <td>-7916.500</td>\n",
              "</tr>\n",
              "<tr>\n",
              "  <th>Date:</th>            <td>Sun, 10 Mar 2024</td> <th>  AIC                </th> <td>15841.000</td>\n",
              "</tr>\n",
              "<tr>\n",
              "  <th>Time:</th>                <td>17:56:21</td>     <th>  BIC                </th> <td>15867.085</td>\n",
              "</tr>\n",
              "<tr>\n",
              "  <th>Sample:</th>             <td>01-10-1994</td>    <th>  HQIC               </th> <td>15850.140</td>\n",
              "</tr>\n",
              "<tr>\n",
              "  <th></th>                   <td>- 04-05-2013</td>   <th>                     </th>     <td> </td>    \n",
              "</tr>\n",
              "<tr>\n",
              "  <th>Covariance Type:</th>        <td>opg</td>       <th>                     </th>     <td> </td>    \n",
              "</tr>\n",
              "</table>\n",
              "<table class=\"simpletable\">\n",
              "<tr>\n",
              "     <td></td>       <th>coef</th>     <th>std err</th>      <th>z</th>      <th>P>|z|</th>  <th>[0.025</th>    <th>0.975]</th>  \n",
              "</tr>\n",
              "<tr>\n",
              "  <th>const</th>  <td>    0.0189</td> <td>    0.015</td> <td>    1.290</td> <td> 0.197</td> <td>   -0.010</td> <td>    0.048</td>\n",
              "</tr>\n",
              "<tr>\n",
              "  <th>ar.L1</th>  <td>    0.7650</td> <td>    0.045</td> <td>   16.995</td> <td> 0.000</td> <td>    0.677</td> <td>    0.853</td>\n",
              "</tr>\n",
              "<tr>\n",
              "  <th>ma.L1</th>  <td>   -0.8142</td> <td>    0.040</td> <td>  -20.187</td> <td> 0.000</td> <td>   -0.893</td> <td>   -0.735</td>\n",
              "</tr>\n",
              "<tr>\n",
              "  <th>sigma2</th> <td>    1.3718</td> <td>    0.014</td> <td>   98.110</td> <td> 0.000</td> <td>    1.344</td> <td>    1.399</td>\n",
              "</tr>\n",
              "</table>\n",
              "<table class=\"simpletable\">\n",
              "<tr>\n",
              "  <th>Ljung-Box (L1) (Q):</th>     <td>2.06</td> <th>  Jarque-Bera (JB):  </th> <td>7488.92</td>\n",
              "</tr>\n",
              "<tr>\n",
              "  <th>Prob(Q):</th>                <td>0.15</td> <th>  Prob(JB):          </th>  <td>0.00</td>  \n",
              "</tr>\n",
              "<tr>\n",
              "  <th>Heteroskedasticity (H):</th> <td>2.03</td> <th>  Skew:              </th>  <td>-0.18</td> \n",
              "</tr>\n",
              "<tr>\n",
              "  <th>Prob(H) (two-sided):</th>    <td>0.00</td> <th>  Kurtosis:          </th>  <td>8.97</td>  \n",
              "</tr>\n",
              "</table><br/><br/>Warnings:<br/>[1] Covariance matrix calculated using the outer product of gradients (complex-step)."
            ],
            "text/latex": [
              "\\begin{center}\n",
              "\\begin{tabular}{lclc}\n",
              "\\toprule\n",
              "\\textbf{Dep. Variable:}          &     returns      & \\textbf{  No. Observations:  } &    5020     \\\\\n",
              "\\textbf{Model:}                  &  ARIMA(1, 0, 1)  & \\textbf{  Log Likelihood     } & -7916.500   \\\\\n",
              "\\textbf{Date:}                   & Sun, 10 Mar 2024 & \\textbf{  AIC                } & 15841.000   \\\\\n",
              "\\textbf{Time:}                   &     17:56:21     & \\textbf{  BIC                } & 15867.085   \\\\\n",
              "\\textbf{Sample:}                 &    01-10-1994    & \\textbf{  HQIC               } & 15850.140   \\\\\n",
              "\\textbf{}                        &   - 04-05-2013   & \\textbf{                     } &             \\\\\n",
              "\\textbf{Covariance Type:}        &       opg        & \\textbf{                     } &             \\\\\n",
              "\\bottomrule\n",
              "\\end{tabular}\n",
              "\\begin{tabular}{lcccccc}\n",
              "                & \\textbf{coef} & \\textbf{std err} & \\textbf{z} & \\textbf{P$> |$z$|$} & \\textbf{[0.025} & \\textbf{0.975]}  \\\\\n",
              "\\midrule\n",
              "\\textbf{const}  &       0.0189  &        0.015     &     1.290  &         0.197        &       -0.010    &        0.048     \\\\\n",
              "\\textbf{ar.L1}  &       0.7650  &        0.045     &    16.995  &         0.000        &        0.677    &        0.853     \\\\\n",
              "\\textbf{ma.L1}  &      -0.8142  &        0.040     &   -20.187  &         0.000        &       -0.893    &       -0.735     \\\\\n",
              "\\textbf{sigma2} &       1.3718  &        0.014     &    98.110  &         0.000        &        1.344    &        1.399     \\\\\n",
              "\\bottomrule\n",
              "\\end{tabular}\n",
              "\\begin{tabular}{lclc}\n",
              "\\textbf{Ljung-Box (L1) (Q):}     & 2.06 & \\textbf{  Jarque-Bera (JB):  } & 7488.92  \\\\\n",
              "\\textbf{Prob(Q):}                & 0.15 & \\textbf{  Prob(JB):          } &   0.00   \\\\\n",
              "\\textbf{Heteroskedasticity (H):} & 2.03 & \\textbf{  Skew:              } &  -0.18   \\\\\n",
              "\\textbf{Prob(H) (two-sided):}    & 0.00 & \\textbf{  Kurtosis:          } &   8.97   \\\\\n",
              "\\bottomrule\n",
              "\\end{tabular}\n",
              "%\\caption{SARIMAX Results}\n",
              "\\end{center}\n",
              "\n",
              "Warnings: \\newline\n",
              " [1] Covariance matrix calculated using the outer product of gradients (complex-step)."
            ],
            "text/plain": [
              "<class 'statsmodels.iolib.summary.Summary'>\n",
              "\"\"\"\n",
              "                               SARIMAX Results                                \n",
              "==============================================================================\n",
              "Dep. Variable:                returns   No. Observations:                 5020\n",
              "Model:                 ARIMA(1, 0, 1)   Log Likelihood               -7916.500\n",
              "Date:                Sun, 10 Mar 2024   AIC                          15841.000\n",
              "Time:                        17:56:21   BIC                          15867.085\n",
              "Sample:                    01-10-1994   HQIC                         15850.140\n",
              "                         - 04-05-2013                                         \n",
              "Covariance Type:                  opg                                         \n",
              "==============================================================================\n",
              "                 coef    std err          z      P>|z|      [0.025      0.975]\n",
              "------------------------------------------------------------------------------\n",
              "const          0.0189      0.015      1.290      0.197      -0.010       0.048\n",
              "ar.L1          0.7650      0.045     16.995      0.000       0.677       0.853\n",
              "ma.L1         -0.8142      0.040    -20.187      0.000      -0.893      -0.735\n",
              "sigma2         1.3718      0.014     98.110      0.000       1.344       1.399\n",
              "===================================================================================\n",
              "Ljung-Box (L1) (Q):                   2.06   Jarque-Bera (JB):              7488.92\n",
              "Prob(Q):                              0.15   Prob(JB):                         0.00\n",
              "Heteroskedasticity (H):               2.03   Skew:                            -0.18\n",
              "Prob(H) (two-sided):                  0.00   Kurtosis:                         8.97\n",
              "===================================================================================\n",
              "\n",
              "Warnings:\n",
              "[1] Covariance matrix calculated using the outer product of gradients (complex-step).\n",
              "\"\"\""
            ]
          },
          "execution_count": 9,
          "metadata": {},
          "output_type": "execute_result"
        }
      ],
      "source": [
        "# Modelo ARIMA\n",
        "model_ret_arima = ARIMA(df.returns[1:], order=(1,0,1))\n",
        "results_ret_ar_1_ma_1 = model_ret_arima.fit()\n",
        "results_ret_ar_1_ma_1.summary()\n"
      ]
    },
    {
      "cell_type": "code",
      "execution_count": 10,
      "metadata": {
        "colab": {},
        "colab_type": "code",
        "id": "JfRYC2WJ7rUa",
        "scrolled": true
      },
      "outputs": [],
      "source": [
        "model_ret_ar_1 = ARIMA(df.returns[1:], order = (1,0,0))\n",
        "model_ret_ma_1 = ARIMA(df.returns[1:], order = (0,0,1))\n",
        "results_ret_ar_1 = model_ret_ar_1.fit()\n",
        "results_ret_ma_1 = model_ret_ma_1.fit()"
      ]
    },
    {
      "cell_type": "code",
      "execution_count": 11,
      "metadata": {
        "colab": {
          "base_uri": "https://localhost:8080/",
          "height": 88
        },
        "colab_type": "code",
        "id": "SgJ6brIP7rUc",
        "outputId": "c25e8a48-3b47-44ee-c713-e917fef567e6"
      },
      "outputs": [
        {
          "name": "stdout",
          "output_type": "stream",
          "text": [
            "\n",
            "ARMA vs AR  0.0\n",
            "\n",
            "ARMA vs MA  0.0\n"
          ]
        }
      ],
      "source": [
        "print(\"\\nARMA vs AR \", LLR_test(results_ret_ar_1, results_ret_ar_1_ma_1))\n",
        "print(\"\\nARMA vs MA \", LLR_test(results_ret_ma_1, results_ret_ar_1_ma_1))"
      ]
    },
    {
      "cell_type": "markdown",
      "metadata": {
        "colab_type": "text",
        "id": "K1qAIsSG7rUe"
      },
      "source": [
        "## Higher-Lag ARMA Models"
      ]
    },
    {
      "cell_type": "code",
      "execution_count": 12,
      "metadata": {
        "colab": {
          "base_uri": "https://localhost:8080/",
          "height": 293
        },
        "colab_type": "code",
        "id": "bnOidUn6VBYu",
        "outputId": "e6ef7ea7-9706-4716-ff30-e12f899ac5dc"
      },
      "outputs": [
        {
          "data": {
            "image/png": "[encoded data removed]",
            "text/plain": [
              "<Figure size 640x480 with 1 Axes>"
            ]
          },
          "metadata": {},
          "output_type": "display_data"
        }
      ],
      "source": [
        "sgt.plot_acf(df.returns[1:], zero = False, lags = 40)\n",
        "plt.title(\"ACF for Returns\",size=24)\n",
        "plt.ylim(-0.1, 0.065)  # Establece los límites del eje Y\n",
        "plt.show()"
      ]
    },
    {
      "cell_type": "code",
      "execution_count": 13,
      "metadata": {
        "colab": {
          "base_uri": "https://localhost:8080/",
          "height": 293
        },
        "colab_type": "code",
        "id": "jqqkgoXNVByQ",
        "outputId": "606f817b-f5f2-4ce0-d819-a270eb83f686"
      },
      "outputs": [
        {
          "data": {
            "image/png": "[encoded data removed]",
            "text/plain": [
              "<Figure size 640x480 with 1 Axes>"
            ]
          },
          "metadata": {},
          "output_type": "display_data"
        }
      ],
      "source": [
        "sgt.plot_pacf(df.returns[1:], zero = False, lags = 40, method='ols')\n",
        "plt.title(\"PACF for Returns\",size=24)\n",
        "plt.ylim(-0.1, 0.065)  # Establece los límites del eje Y\n",
        "plt.show()"
      ]
    },
    {
      "cell_type": "code",
      "execution_count": 14,
      "metadata": {
        "colab": {
          "base_uri": "https://localhost:8080/",
          "height": 506
        },
        "colab_type": "code",
        "id": "zI4Ex9aA7rUf",
        "outputId": "b7a72d08-e980-4239-8cb9-7cf9828e9df4"
      },
      "outputs": [
        {
          "data": {
            "text/html": [
              "<table class=\"simpletable\">\n",
              "<caption>SARIMAX Results</caption>\n",
              "<tr>\n",
              "  <th>Dep. Variable:</th>        <td>returns</td>     <th>  No. Observations:  </th>   <td>5020</td>   \n",
              "</tr>\n",
              "<tr>\n",
              "  <th>Model:</th>            <td>ARIMA(3, 0, 3)</td>  <th>  Log Likelihood     </th> <td>-7893.515</td>\n",
              "</tr>\n",
              "<tr>\n",
              "  <th>Date:</th>            <td>Sun, 10 Mar 2024</td> <th>  AIC                </th> <td>15803.030</td>\n",
              "</tr>\n",
              "<tr>\n",
              "  <th>Time:</th>                <td>17:56:25</td>     <th>  BIC                </th> <td>15855.200</td>\n",
              "</tr>\n",
              "<tr>\n",
              "  <th>Sample:</th>             <td>01-10-1994</td>    <th>  HQIC               </th> <td>15821.311</td>\n",
              "</tr>\n",
              "<tr>\n",
              "  <th></th>                   <td>- 04-05-2013</td>   <th>                     </th>     <td> </td>    \n",
              "</tr>\n",
              "<tr>\n",
              "  <th>Covariance Type:</th>        <td>opg</td>       <th>                     </th>     <td> </td>    \n",
              "</tr>\n",
              "</table>\n",
              "<table class=\"simpletable\">\n",
              "<tr>\n",
              "     <td></td>       <th>coef</th>     <th>std err</th>      <th>z</th>      <th>P>|z|</th>  <th>[0.025</th>    <th>0.975]</th>  \n",
              "</tr>\n",
              "<tr>\n",
              "  <th>const</th>  <td>    0.0189</td> <td>    0.015</td> <td>    1.281</td> <td> 0.200</td> <td>   -0.010</td> <td>    0.048</td>\n",
              "</tr>\n",
              "<tr>\n",
              "  <th>ar.L1</th>  <td>   -0.1880</td> <td>    0.068</td> <td>   -2.780</td> <td> 0.005</td> <td>   -0.321</td> <td>   -0.055</td>\n",
              "</tr>\n",
              "<tr>\n",
              "  <th>ar.L2</th>  <td>   -0.2926</td> <td>    0.054</td> <td>   -5.380</td> <td> 0.000</td> <td>   -0.399</td> <td>   -0.186</td>\n",
              "</tr>\n",
              "<tr>\n",
              "  <th>ar.L3</th>  <td>    0.4469</td> <td>    0.062</td> <td>    7.252</td> <td> 0.000</td> <td>    0.326</td> <td>    0.568</td>\n",
              "</tr>\n",
              "<tr>\n",
              "  <th>ma.L1</th>  <td>    0.1690</td> <td>    0.063</td> <td>    2.686</td> <td> 0.007</td> <td>    0.046</td> <td>    0.292</td>\n",
              "</tr>\n",
              "<tr>\n",
              "  <th>ma.L2</th>  <td>    0.2260</td> <td>    0.052</td> <td>    4.328</td> <td> 0.000</td> <td>    0.124</td> <td>    0.328</td>\n",
              "</tr>\n",
              "<tr>\n",
              "  <th>ma.L3</th>  <td>   -0.5442</td> <td>    0.056</td> <td>   -9.632</td> <td> 0.000</td> <td>   -0.655</td> <td>   -0.433</td>\n",
              "</tr>\n",
              "<tr>\n",
              "  <th>sigma2</th> <td>    1.3591</td> <td>    0.015</td> <td>   92.543</td> <td> 0.000</td> <td>    1.330</td> <td>    1.388</td>\n",
              "</tr>\n",
              "</table>\n",
              "<table class=\"simpletable\">\n",
              "<tr>\n",
              "  <th>Ljung-Box (L1) (Q):</th>     <td>0.18</td> <th>  Jarque-Bera (JB):  </th> <td>6862.43</td>\n",
              "</tr>\n",
              "<tr>\n",
              "  <th>Prob(Q):</th>                <td>0.67</td> <th>  Prob(JB):          </th>  <td>0.00</td>  \n",
              "</tr>\n",
              "<tr>\n",
              "  <th>Heteroskedasticity (H):</th> <td>2.00</td> <th>  Skew:              </th>  <td>-0.17</td> \n",
              "</tr>\n",
              "<tr>\n",
              "  <th>Prob(H) (two-sided):</th>    <td>0.00</td> <th>  Kurtosis:          </th>  <td>8.72</td>  \n",
              "</tr>\n",
              "</table><br/><br/>Warnings:<br/>[1] Covariance matrix calculated using the outer product of gradients (complex-step)."
            ],
            "text/latex": [
              "\\begin{center}\n",
              "\\begin{tabular}{lclc}\n",
              "\\toprule\n",
              "\\textbf{Dep. Variable:}          &     returns      & \\textbf{  No. Observations:  } &    5020     \\\\\n",
              "\\textbf{Model:}                  &  ARIMA(3, 0, 3)  & \\textbf{  Log Likelihood     } & -7893.515   \\\\\n",
              "\\textbf{Date:}                   & Sun, 10 Mar 2024 & \\textbf{  AIC                } & 15803.030   \\\\\n",
              "\\textbf{Time:}                   &     17:56:25     & \\textbf{  BIC                } & 15855.200   \\\\\n",
              "\\textbf{Sample:}                 &    01-10-1994    & \\textbf{  HQIC               } & 15821.311   \\\\\n",
              "\\textbf{}                        &   - 04-05-2013   & \\textbf{                     } &             \\\\\n",
              "\\textbf{Covariance Type:}        &       opg        & \\textbf{                     } &             \\\\\n",
              "\\bottomrule\n",
              "\\end{tabular}\n",
              "\\begin{tabular}{lcccccc}\n",
              "                & \\textbf{coef} & \\textbf{std err} & \\textbf{z} & \\textbf{P$> |$z$|$} & \\textbf{[0.025} & \\textbf{0.975]}  \\\\\n",
              "\\midrule\n",
              "\\textbf{const}  &       0.0189  &        0.015     &     1.281  &         0.200        &       -0.010    &        0.048     \\\\\n",
              "\\textbf{ar.L1}  &      -0.1880  &        0.068     &    -2.780  &         0.005        &       -0.321    &       -0.055     \\\\\n",
              "\\textbf{ar.L2}  &      -0.2926  &        0.054     &    -5.380  &         0.000        &       -0.399    &       -0.186     \\\\\n",
              "\\textbf{ar.L3}  &       0.4469  &        0.062     &     7.252  &         0.000        &        0.326    &        0.568     \\\\\n",
              "\\textbf{ma.L1}  &       0.1690  &        0.063     &     2.686  &         0.007        &        0.046    &        0.292     \\\\\n",
              "\\textbf{ma.L2}  &       0.2260  &        0.052     &     4.328  &         0.000        &        0.124    &        0.328     \\\\\n",
              "\\textbf{ma.L3}  &      -0.5442  &        0.056     &    -9.632  &         0.000        &       -0.655    &       -0.433     \\\\\n",
              "\\textbf{sigma2} &       1.3591  &        0.015     &    92.543  &         0.000        &        1.330    &        1.388     \\\\\n",
              "\\bottomrule\n",
              "\\end{tabular}\n",
              "\\begin{tabular}{lclc}\n",
              "\\textbf{Ljung-Box (L1) (Q):}     & 0.18 & \\textbf{  Jarque-Bera (JB):  } & 6862.43  \\\\\n",
              "\\textbf{Prob(Q):}                & 0.67 & \\textbf{  Prob(JB):          } &   0.00   \\\\\n",
              "\\textbf{Heteroskedasticity (H):} & 2.00 & \\textbf{  Skew:              } &  -0.17   \\\\\n",
              "\\textbf{Prob(H) (two-sided):}    & 0.00 & \\textbf{  Kurtosis:          } &   8.72   \\\\\n",
              "\\bottomrule\n",
              "\\end{tabular}\n",
              "%\\caption{SARIMAX Results}\n",
              "\\end{center}\n",
              "\n",
              "Warnings: \\newline\n",
              " [1] Covariance matrix calculated using the outer product of gradients (complex-step)."
            ],
            "text/plain": [
              "<class 'statsmodels.iolib.summary.Summary'>\n",
              "\"\"\"\n",
              "                               SARIMAX Results                                \n",
              "==============================================================================\n",
              "Dep. Variable:                returns   No. Observations:                 5020\n",
              "Model:                 ARIMA(3, 0, 3)   Log Likelihood               -7893.515\n",
              "Date:                Sun, 10 Mar 2024   AIC                          15803.030\n",
              "Time:                        17:56:25   BIC                          15855.200\n",
              "Sample:                    01-10-1994   HQIC                         15821.311\n",
              "                         - 04-05-2013                                         \n",
              "Covariance Type:                  opg                                         \n",
              "==============================================================================\n",
              "                 coef    std err          z      P>|z|      [0.025      0.975]\n",
              "------------------------------------------------------------------------------\n",
              "const          0.0189      0.015      1.281      0.200      -0.010       0.048\n",
              "ar.L1         -0.1880      0.068     -2.780      0.005      -0.321      -0.055\n",
              "ar.L2         -0.2926      0.054     -5.380      0.000      -0.399      -0.186\n",
              "ar.L3          0.4469      0.062      7.252      0.000       0.326       0.568\n",
              "ma.L1          0.1690      0.063      2.686      0.007       0.046       0.292\n",
              "ma.L2          0.2260      0.052      4.328      0.000       0.124       0.328\n",
              "ma.L3         -0.5442      0.056     -9.632      0.000      -0.655      -0.433\n",
              "sigma2         1.3591      0.015     92.543      0.000       1.330       1.388\n",
              "===================================================================================\n",
              "Ljung-Box (L1) (Q):                   0.18   Jarque-Bera (JB):              6862.43\n",
              "Prob(Q):                              0.67   Prob(JB):                         0.00\n",
              "Heteroskedasticity (H):               2.00   Skew:                            -0.17\n",
              "Prob(H) (two-sided):                  0.00   Kurtosis:                         8.72\n",
              "===================================================================================\n",
              "\n",
              "Warnings:\n",
              "[1] Covariance matrix calculated using the outer product of gradients (complex-step).\n",
              "\"\"\""
            ]
          },
          "execution_count": 14,
          "metadata": {},
          "output_type": "execute_result"
        }
      ],
      "source": [
        "model_ret_ar_3_ma_3 = ARIMA(df.returns[1:], order=(3,0,3))\n",
        "results_ret_ar_3_ma_3 = model_ret_ar_3_ma_3.fit()\n",
        "results_ret_ar_3_ma_3.summary()"
      ]
    },
    {
      "cell_type": "code",
      "execution_count": 15,
      "metadata": {
        "colab": {
          "base_uri": "https://localhost:8080/",
          "height": 35
        },
        "colab_type": "code",
        "id": "EJ4dWsuG7rUi",
        "outputId": "dd843664-773c-4c16-a22e-e3bf7b9cf4bf"
      },
      "outputs": [
        {
          "data": {
            "text/plain": [
              "0.0"
            ]
          },
          "execution_count": 15,
          "metadata": {},
          "output_type": "execute_result"
        }
      ],
      "source": [
        "LLR_test(results_ret_ar_1_ma_1, results_ret_ar_3_ma_3, DF = 4)"
      ]
    },
    {
      "cell_type": "code",
      "execution_count": 16,
      "metadata": {
        "colab": {
          "base_uri": "https://localhost:8080/",
          "height": 465
        },
        "colab_type": "code",
        "id": "lqflALFk7rUn",
        "outputId": "3a3fa151-972d-4aaf-f37f-b40d0776410f"
      },
      "outputs": [
        {
          "data": {
            "text/html": [
              "<table class=\"simpletable\">\n",
              "<caption>SARIMAX Results</caption>\n",
              "<tr>\n",
              "  <th>Dep. Variable:</th>        <td>returns</td>     <th>  No. Observations:  </th>   <td>5020</td>   \n",
              "</tr>\n",
              "<tr>\n",
              "  <th>Model:</th>            <td>ARIMA(3, 0, 2)</td>  <th>  Log Likelihood     </th> <td>-7895.747</td>\n",
              "</tr>\n",
              "<tr>\n",
              "  <th>Date:</th>            <td>Sun, 10 Mar 2024</td> <th>  AIC                </th> <td>15805.495</td>\n",
              "</tr>\n",
              "<tr>\n",
              "  <th>Time:</th>                <td>17:56:28</td>     <th>  BIC                </th> <td>15851.143</td>\n",
              "</tr>\n",
              "<tr>\n",
              "  <th>Sample:</th>             <td>01-10-1994</td>    <th>  HQIC               </th> <td>15821.491</td>\n",
              "</tr>\n",
              "<tr>\n",
              "  <th></th>                   <td>- 04-05-2013</td>   <th>                     </th>     <td> </td>    \n",
              "</tr>\n",
              "<tr>\n",
              "  <th>Covariance Type:</th>        <td>opg</td>       <th>                     </th>     <td> </td>    \n",
              "</tr>\n",
              "</table>\n",
              "<table class=\"simpletable\">\n",
              "<tr>\n",
              "     <td></td>       <th>coef</th>     <th>std err</th>      <th>z</th>      <th>P>|z|</th>  <th>[0.025</th>    <th>0.975]</th>  \n",
              "</tr>\n",
              "<tr>\n",
              "  <th>const</th>  <td>    0.0188</td> <td>    0.016</td> <td>    1.211</td> <td> 0.226</td> <td>   -0.012</td> <td>    0.049</td>\n",
              "</tr>\n",
              "<tr>\n",
              "  <th>ar.L1</th>  <td>   -0.6778</td> <td>    0.055</td> <td>  -12.298</td> <td> 0.000</td> <td>   -0.786</td> <td>   -0.570</td>\n",
              "</tr>\n",
              "<tr>\n",
              "  <th>ar.L2</th>  <td>   -0.5082</td> <td>    0.063</td> <td>   -8.035</td> <td> 0.000</td> <td>   -0.632</td> <td>   -0.384</td>\n",
              "</tr>\n",
              "<tr>\n",
              "  <th>ar.L3</th>  <td>   -0.1141</td> <td>    0.009</td> <td>  -12.755</td> <td> 0.000</td> <td>   -0.132</td> <td>   -0.097</td>\n",
              "</tr>\n",
              "<tr>\n",
              "  <th>ma.L1</th>  <td>    0.6561</td> <td>    0.056</td> <td>   11.747</td> <td> 0.000</td> <td>    0.547</td> <td>    0.766</td>\n",
              "</tr>\n",
              "<tr>\n",
              "  <th>ma.L2</th>  <td>    0.4468</td> <td>    0.064</td> <td>    7.031</td> <td> 0.000</td> <td>    0.322</td> <td>    0.571</td>\n",
              "</tr>\n",
              "<tr>\n",
              "  <th>sigma2</th> <td>    1.3604</td> <td>    0.015</td> <td>   91.796</td> <td> 0.000</td> <td>    1.331</td> <td>    1.389</td>\n",
              "</tr>\n",
              "</table>\n",
              "<table class=\"simpletable\">\n",
              "<tr>\n",
              "  <th>Ljung-Box (L1) (Q):</th>     <td>0.00</td> <th>  Jarque-Bera (JB):  </th> <td>6513.61</td>\n",
              "</tr>\n",
              "<tr>\n",
              "  <th>Prob(Q):</th>                <td>1.00</td> <th>  Prob(JB):          </th>  <td>0.00</td>  \n",
              "</tr>\n",
              "<tr>\n",
              "  <th>Heteroskedasticity (H):</th> <td>1.99</td> <th>  Skew:              </th>  <td>-0.11</td> \n",
              "</tr>\n",
              "<tr>\n",
              "  <th>Prob(H) (two-sided):</th>    <td>0.00</td> <th>  Kurtosis:          </th>  <td>8.58</td>  \n",
              "</tr>\n",
              "</table><br/><br/>Warnings:<br/>[1] Covariance matrix calculated using the outer product of gradients (complex-step)."
            ],
            "text/latex": [
              "\\begin{center}\n",
              "\\begin{tabular}{lclc}\n",
              "\\toprule\n",
              "\\textbf{Dep. Variable:}          &     returns      & \\textbf{  No. Observations:  } &    5020     \\\\\n",
              "\\textbf{Model:}                  &  ARIMA(3, 0, 2)  & \\textbf{  Log Likelihood     } & -7895.747   \\\\\n",
              "\\textbf{Date:}                   & Sun, 10 Mar 2024 & \\textbf{  AIC                } & 15805.495   \\\\\n",
              "\\textbf{Time:}                   &     17:56:28     & \\textbf{  BIC                } & 15851.143   \\\\\n",
              "\\textbf{Sample:}                 &    01-10-1994    & \\textbf{  HQIC               } & 15821.491   \\\\\n",
              "\\textbf{}                        &   - 04-05-2013   & \\textbf{                     } &             \\\\\n",
              "\\textbf{Covariance Type:}        &       opg        & \\textbf{                     } &             \\\\\n",
              "\\bottomrule\n",
              "\\end{tabular}\n",
              "\\begin{tabular}{lcccccc}\n",
              "                & \\textbf{coef} & \\textbf{std err} & \\textbf{z} & \\textbf{P$> |$z$|$} & \\textbf{[0.025} & \\textbf{0.975]}  \\\\\n",
              "\\midrule\n",
              "\\textbf{const}  &       0.0188  &        0.016     &     1.211  &         0.226        &       -0.012    &        0.049     \\\\\n",
              "\\textbf{ar.L1}  &      -0.6778  &        0.055     &   -12.298  &         0.000        &       -0.786    &       -0.570     \\\\\n",
              "\\textbf{ar.L2}  &      -0.5082  &        0.063     &    -8.035  &         0.000        &       -0.632    &       -0.384     \\\\\n",
              "\\textbf{ar.L3}  &      -0.1141  &        0.009     &   -12.755  &         0.000        &       -0.132    &       -0.097     \\\\\n",
              "\\textbf{ma.L1}  &       0.6561  &        0.056     &    11.747  &         0.000        &        0.547    &        0.766     \\\\\n",
              "\\textbf{ma.L2}  &       0.4468  &        0.064     &     7.031  &         0.000        &        0.322    &        0.571     \\\\\n",
              "\\textbf{sigma2} &       1.3604  &        0.015     &    91.796  &         0.000        &        1.331    &        1.389     \\\\\n",
              "\\bottomrule\n",
              "\\end{tabular}\n",
              "\\begin{tabular}{lclc}\n",
              "\\textbf{Ljung-Box (L1) (Q):}     & 0.00 & \\textbf{  Jarque-Bera (JB):  } & 6513.61  \\\\\n",
              "\\textbf{Prob(Q):}                & 1.00 & \\textbf{  Prob(JB):          } &   0.00   \\\\\n",
              "\\textbf{Heteroskedasticity (H):} & 1.99 & \\textbf{  Skew:              } &  -0.11   \\\\\n",
              "\\textbf{Prob(H) (two-sided):}    & 0.00 & \\textbf{  Kurtosis:          } &   8.58   \\\\\n",
              "\\bottomrule\n",
              "\\end{tabular}\n",
              "%\\caption{SARIMAX Results}\n",
              "\\end{center}\n",
              "\n",
              "Warnings: \\newline\n",
              " [1] Covariance matrix calculated using the outer product of gradients (complex-step)."
            ],
            "text/plain": [
              "<class 'statsmodels.iolib.summary.Summary'>\n",
              "\"\"\"\n",
              "                               SARIMAX Results                                \n",
              "==============================================================================\n",
              "Dep. Variable:                returns   No. Observations:                 5020\n",
              "Model:                 ARIMA(3, 0, 2)   Log Likelihood               -7895.747\n",
              "Date:                Sun, 10 Mar 2024   AIC                          15805.495\n",
              "Time:                        17:56:28   BIC                          15851.143\n",
              "Sample:                    01-10-1994   HQIC                         15821.491\n",
              "                         - 04-05-2013                                         \n",
              "Covariance Type:                  opg                                         \n",
              "==============================================================================\n",
              "                 coef    std err          z      P>|z|      [0.025      0.975]\n",
              "------------------------------------------------------------------------------\n",
              "const          0.0188      0.016      1.211      0.226      -0.012       0.049\n",
              "ar.L1         -0.6778      0.055    -12.298      0.000      -0.786      -0.570\n",
              "ar.L2         -0.5082      0.063     -8.035      0.000      -0.632      -0.384\n",
              "ar.L3         -0.1141      0.009    -12.755      0.000      -0.132      -0.097\n",
              "ma.L1          0.6561      0.056     11.747      0.000       0.547       0.766\n",
              "ma.L2          0.4468      0.064      7.031      0.000       0.322       0.571\n",
              "sigma2         1.3604      0.015     91.796      0.000       1.331       1.389\n",
              "===================================================================================\n",
              "Ljung-Box (L1) (Q):                   0.00   Jarque-Bera (JB):              6513.61\n",
              "Prob(Q):                              1.00   Prob(JB):                         0.00\n",
              "Heteroskedasticity (H):               1.99   Skew:                            -0.11\n",
              "Prob(H) (two-sided):                  0.00   Kurtosis:                         8.58\n",
              "===================================================================================\n",
              "\n",
              "Warnings:\n",
              "[1] Covariance matrix calculated using the outer product of gradients (complex-step).\n",
              "\"\"\""
            ]
          },
          "execution_count": 16,
          "metadata": {},
          "output_type": "execute_result"
        }
      ],
      "source": [
        "model_ret_ar_3_ma_2 = ARIMA(df.returns[1:], order=(3,0,2))\n",
        "results_ret_ar_3_ma_2 = model_ret_ar_3_ma_2.fit()\n",
        "results_ret_ar_3_ma_2.summary()"
      ]
    },
    {
      "cell_type": "code",
      "execution_count": 17,
      "metadata": {
        "colab": {
          "base_uri": "https://localhost:8080/",
          "height": 465
        },
        "colab_type": "code",
        "id": "RAKfjQLh7rUp",
        "outputId": "56e49c91-5c74-4bac-cc80-d9c7ba305de2"
      },
      "outputs": [
        {
          "data": {
            "text/html": [
              "<table class=\"simpletable\">\n",
              "<caption>SARIMAX Results</caption>\n",
              "<tr>\n",
              "  <th>Dep. Variable:</th>        <td>returns</td>     <th>  No. Observations:  </th>   <td>5020</td>   \n",
              "</tr>\n",
              "<tr>\n",
              "  <th>Model:</th>            <td>ARIMA(2, 0, 3)</td>  <th>  Log Likelihood     </th> <td>-7895.587</td>\n",
              "</tr>\n",
              "<tr>\n",
              "  <th>Date:</th>            <td>Sun, 10 Mar 2024</td> <th>  AIC                </th> <td>15805.175</td>\n",
              "</tr>\n",
              "<tr>\n",
              "  <th>Time:</th>                <td>17:56:31</td>     <th>  BIC                </th> <td>15850.823</td>\n",
              "</tr>\n",
              "<tr>\n",
              "  <th>Sample:</th>             <td>01-10-1994</td>    <th>  HQIC               </th> <td>15821.170</td>\n",
              "</tr>\n",
              "<tr>\n",
              "  <th></th>                   <td>- 04-05-2013</td>   <th>                     </th>     <td> </td>    \n",
              "</tr>\n",
              "<tr>\n",
              "  <th>Covariance Type:</th>        <td>opg</td>       <th>                     </th>     <td> </td>    \n",
              "</tr>\n",
              "</table>\n",
              "<table class=\"simpletable\">\n",
              "<tr>\n",
              "     <td></td>       <th>coef</th>     <th>std err</th>      <th>z</th>      <th>P>|z|</th>  <th>[0.025</th>    <th>0.975]</th>  \n",
              "</tr>\n",
              "<tr>\n",
              "  <th>const</th>  <td>    0.0188</td> <td>    0.015</td> <td>    1.224</td> <td> 0.221</td> <td>   -0.011</td> <td>    0.049</td>\n",
              "</tr>\n",
              "<tr>\n",
              "  <th>ar.L1</th>  <td>   -0.5600</td> <td>    0.057</td> <td>   -9.777</td> <td> 0.000</td> <td>   -0.672</td> <td>   -0.448</td>\n",
              "</tr>\n",
              "<tr>\n",
              "  <th>ar.L2</th>  <td>   -0.4178</td> <td>    0.065</td> <td>   -6.381</td> <td> 0.000</td> <td>   -0.546</td> <td>   -0.289</td>\n",
              "</tr>\n",
              "<tr>\n",
              "  <th>ma.L1</th>  <td>    0.5373</td> <td>    0.057</td> <td>    9.417</td> <td> 0.000</td> <td>    0.425</td> <td>    0.649</td>\n",
              "</tr>\n",
              "<tr>\n",
              "  <th>ma.L2</th>  <td>    0.3531</td> <td>    0.066</td> <td>    5.383</td> <td> 0.000</td> <td>    0.225</td> <td>    0.482</td>\n",
              "</tr>\n",
              "<tr>\n",
              "  <th>ma.L3</th>  <td>   -0.1159</td> <td>    0.009</td> <td>  -12.679</td> <td> 0.000</td> <td>   -0.134</td> <td>   -0.098</td>\n",
              "</tr>\n",
              "<tr>\n",
              "  <th>sigma2</th> <td>    1.3604</td> <td>    0.015</td> <td>   91.315</td> <td> 0.000</td> <td>    1.331</td> <td>    1.390</td>\n",
              "</tr>\n",
              "</table>\n",
              "<table class=\"simpletable\">\n",
              "<tr>\n",
              "  <th>Ljung-Box (L1) (Q):</th>     <td>0.00</td> <th>  Jarque-Bera (JB):  </th> <td>6515.27</td>\n",
              "</tr>\n",
              "<tr>\n",
              "  <th>Prob(Q):</th>                <td>0.99</td> <th>  Prob(JB):          </th>  <td>0.00</td>  \n",
              "</tr>\n",
              "<tr>\n",
              "  <th>Heteroskedasticity (H):</th> <td>1.99</td> <th>  Skew:              </th>  <td>-0.12</td> \n",
              "</tr>\n",
              "<tr>\n",
              "  <th>Prob(H) (two-sided):</th>    <td>0.00</td> <th>  Kurtosis:          </th>  <td>8.58</td>  \n",
              "</tr>\n",
              "</table><br/><br/>Warnings:<br/>[1] Covariance matrix calculated using the outer product of gradients (complex-step)."
            ],
            "text/latex": [
              "\\begin{center}\n",
              "\\begin{tabular}{lclc}\n",
              "\\toprule\n",
              "\\textbf{Dep. Variable:}          &     returns      & \\textbf{  No. Observations:  } &    5020     \\\\\n",
              "\\textbf{Model:}                  &  ARIMA(2, 0, 3)  & \\textbf{  Log Likelihood     } & -7895.587   \\\\\n",
              "\\textbf{Date:}                   & Sun, 10 Mar 2024 & \\textbf{  AIC                } & 15805.175   \\\\\n",
              "\\textbf{Time:}                   &     17:56:31     & \\textbf{  BIC                } & 15850.823   \\\\\n",
              "\\textbf{Sample:}                 &    01-10-1994    & \\textbf{  HQIC               } & 15821.170   \\\\\n",
              "\\textbf{}                        &   - 04-05-2013   & \\textbf{                     } &             \\\\\n",
              "\\textbf{Covariance Type:}        &       opg        & \\textbf{                     } &             \\\\\n",
              "\\bottomrule\n",
              "\\end{tabular}\n",
              "\\begin{tabular}{lcccccc}\n",
              "                & \\textbf{coef} & \\textbf{std err} & \\textbf{z} & \\textbf{P$> |$z$|$} & \\textbf{[0.025} & \\textbf{0.975]}  \\\\\n",
              "\\midrule\n",
              "\\textbf{const}  &       0.0188  &        0.015     &     1.224  &         0.221        &       -0.011    &        0.049     \\\\\n",
              "\\textbf{ar.L1}  &      -0.5600  &        0.057     &    -9.777  &         0.000        &       -0.672    &       -0.448     \\\\\n",
              "\\textbf{ar.L2}  &      -0.4178  &        0.065     &    -6.381  &         0.000        &       -0.546    &       -0.289     \\\\\n",
              "\\textbf{ma.L1}  &       0.5373  &        0.057     &     9.417  &         0.000        &        0.425    &        0.649     \\\\\n",
              "\\textbf{ma.L2}  &       0.3531  &        0.066     &     5.383  &         0.000        &        0.225    &        0.482     \\\\\n",
              "\\textbf{ma.L3}  &      -0.1159  &        0.009     &   -12.679  &         0.000        &       -0.134    &       -0.098     \\\\\n",
              "\\textbf{sigma2} &       1.3604  &        0.015     &    91.315  &         0.000        &        1.331    &        1.390     \\\\\n",
              "\\bottomrule\n",
              "\\end{tabular}\n",
              "\\begin{tabular}{lclc}\n",
              "\\textbf{Ljung-Box (L1) (Q):}     & 0.00 & \\textbf{  Jarque-Bera (JB):  } & 6515.27  \\\\\n",
              "\\textbf{Prob(Q):}                & 0.99 & \\textbf{  Prob(JB):          } &   0.00   \\\\\n",
              "\\textbf{Heteroskedasticity (H):} & 1.99 & \\textbf{  Skew:              } &  -0.12   \\\\\n",
              "\\textbf{Prob(H) (two-sided):}    & 0.00 & \\textbf{  Kurtosis:          } &   8.58   \\\\\n",
              "\\bottomrule\n",
              "\\end{tabular}\n",
              "%\\caption{SARIMAX Results}\n",
              "\\end{center}\n",
              "\n",
              "Warnings: \\newline\n",
              " [1] Covariance matrix calculated using the outer product of gradients (complex-step)."
            ],
            "text/plain": [
              "<class 'statsmodels.iolib.summary.Summary'>\n",
              "\"\"\"\n",
              "                               SARIMAX Results                                \n",
              "==============================================================================\n",
              "Dep. Variable:                returns   No. Observations:                 5020\n",
              "Model:                 ARIMA(2, 0, 3)   Log Likelihood               -7895.587\n",
              "Date:                Sun, 10 Mar 2024   AIC                          15805.175\n",
              "Time:                        17:56:31   BIC                          15850.823\n",
              "Sample:                    01-10-1994   HQIC                         15821.170\n",
              "                         - 04-05-2013                                         \n",
              "Covariance Type:                  opg                                         \n",
              "==============================================================================\n",
              "                 coef    std err          z      P>|z|      [0.025      0.975]\n",
              "------------------------------------------------------------------------------\n",
              "const          0.0188      0.015      1.224      0.221      -0.011       0.049\n",
              "ar.L1         -0.5600      0.057     -9.777      0.000      -0.672      -0.448\n",
              "ar.L2         -0.4178      0.065     -6.381      0.000      -0.546      -0.289\n",
              "ma.L1          0.5373      0.057      9.417      0.000       0.425       0.649\n",
              "ma.L2          0.3531      0.066      5.383      0.000       0.225       0.482\n",
              "ma.L3         -0.1159      0.009    -12.679      0.000      -0.134      -0.098\n",
              "sigma2         1.3604      0.015     91.315      0.000       1.331       1.390\n",
              "===================================================================================\n",
              "Ljung-Box (L1) (Q):                   0.00   Jarque-Bera (JB):              6515.27\n",
              "Prob(Q):                              0.99   Prob(JB):                         0.00\n",
              "Heteroskedasticity (H):               1.99   Skew:                            -0.12\n",
              "Prob(H) (two-sided):                  0.00   Kurtosis:                         8.58\n",
              "===================================================================================\n",
              "\n",
              "Warnings:\n",
              "[1] Covariance matrix calculated using the outer product of gradients (complex-step).\n",
              "\"\"\""
            ]
          },
          "execution_count": 17,
          "metadata": {},
          "output_type": "execute_result"
        }
      ],
      "source": [
        "model_ret_ar_2_ma_3 = ARIMA(df.returns[1:], order=(2,0,3))\n",
        "results_ret_ar_2_ma_3 = model_ret_ar_2_ma_3.fit()\n",
        "results_ret_ar_2_ma_3.summary()"
      ]
    },
    {
      "cell_type": "code",
      "execution_count": 18,
      "metadata": {
        "colab": {
          "base_uri": "https://localhost:8080/",
          "height": 424
        },
        "colab_type": "code",
        "id": "sTKO4iWQ7rUu",
        "outputId": "460979de-2e94-4221-97a4-f588c7c28076"
      },
      "outputs": [
        {
          "data": {
            "text/html": [
              "<table class=\"simpletable\">\n",
              "<caption>SARIMAX Results</caption>\n",
              "<tr>\n",
              "  <th>Dep. Variable:</th>        <td>returns</td>     <th>  No. Observations:  </th>   <td>5020</td>   \n",
              "</tr>\n",
              "<tr>\n",
              "  <th>Model:</th>            <td>ARIMA(3, 0, 1)</td>  <th>  Log Likelihood     </th> <td>-7899.072</td>\n",
              "</tr>\n",
              "<tr>\n",
              "  <th>Date:</th>            <td>Sun, 10 Mar 2024</td> <th>  AIC                </th> <td>15810.144</td>\n",
              "</tr>\n",
              "<tr>\n",
              "  <th>Time:</th>                <td>17:56:33</td>     <th>  BIC                </th> <td>15849.271</td>\n",
              "</tr>\n",
              "<tr>\n",
              "  <th>Sample:</th>             <td>01-10-1994</td>    <th>  HQIC               </th> <td>15823.855</td>\n",
              "</tr>\n",
              "<tr>\n",
              "  <th></th>                   <td>- 04-05-2013</td>   <th>                     </th>     <td> </td>    \n",
              "</tr>\n",
              "<tr>\n",
              "  <th>Covariance Type:</th>        <td>opg</td>       <th>                     </th>     <td> </td>    \n",
              "</tr>\n",
              "</table>\n",
              "<table class=\"simpletable\">\n",
              "<tr>\n",
              "     <td></td>       <th>coef</th>     <th>std err</th>      <th>z</th>      <th>P>|z|</th>  <th>[0.025</th>    <th>0.975]</th>  \n",
              "</tr>\n",
              "<tr>\n",
              "  <th>const</th>  <td>    0.0189</td> <td>    0.015</td> <td>    1.248</td> <td> 0.212</td> <td>   -0.011</td> <td>    0.048</td>\n",
              "</tr>\n",
              "<tr>\n",
              "  <th>ar.L1</th>  <td>   -0.5074</td> <td>    0.062</td> <td>   -8.155</td> <td> 0.000</td> <td>   -0.629</td> <td>   -0.385</td>\n",
              "</tr>\n",
              "<tr>\n",
              "  <th>ar.L2</th>  <td>   -0.0638</td> <td>    0.009</td> <td>   -7.027</td> <td> 0.000</td> <td>   -0.082</td> <td>   -0.046</td>\n",
              "</tr>\n",
              "<tr>\n",
              "  <th>ar.L3</th>  <td>   -0.1102</td> <td>    0.008</td> <td>  -13.610</td> <td> 0.000</td> <td>   -0.126</td> <td>   -0.094</td>\n",
              "</tr>\n",
              "<tr>\n",
              "  <th>ma.L1</th>  <td>    0.4836</td> <td>    0.064</td> <td>    7.608</td> <td> 0.000</td> <td>    0.359</td> <td>    0.608</td>\n",
              "</tr>\n",
              "<tr>\n",
              "  <th>sigma2</th> <td>    1.3623</td> <td>    0.015</td> <td>   92.782</td> <td> 0.000</td> <td>    1.334</td> <td>    1.391</td>\n",
              "</tr>\n",
              "</table>\n",
              "<table class=\"simpletable\">\n",
              "<tr>\n",
              "  <th>Ljung-Box (L1) (Q):</th>     <td>0.01</td> <th>  Jarque-Bera (JB):  </th> <td>6490.60</td>\n",
              "</tr>\n",
              "<tr>\n",
              "  <th>Prob(Q):</th>                <td>0.94</td> <th>  Prob(JB):          </th>  <td>0.00</td>  \n",
              "</tr>\n",
              "<tr>\n",
              "  <th>Heteroskedasticity (H):</th> <td>2.00</td> <th>  Skew:              </th>  <td>-0.14</td> \n",
              "</tr>\n",
              "<tr>\n",
              "  <th>Prob(H) (two-sided):</th>    <td>0.00</td> <th>  Kurtosis:          </th>  <td>8.56</td>  \n",
              "</tr>\n",
              "</table><br/><br/>Warnings:<br/>[1] Covariance matrix calculated using the outer product of gradients (complex-step)."
            ],
            "text/latex": [
              "\\begin{center}\n",
              "\\begin{tabular}{lclc}\n",
              "\\toprule\n",
              "\\textbf{Dep. Variable:}          &     returns      & \\textbf{  No. Observations:  } &    5020     \\\\\n",
              "\\textbf{Model:}                  &  ARIMA(3, 0, 1)  & \\textbf{  Log Likelihood     } & -7899.072   \\\\\n",
              "\\textbf{Date:}                   & Sun, 10 Mar 2024 & \\textbf{  AIC                } & 15810.144   \\\\\n",
              "\\textbf{Time:}                   &     17:56:33     & \\textbf{  BIC                } & 15849.271   \\\\\n",
              "\\textbf{Sample:}                 &    01-10-1994    & \\textbf{  HQIC               } & 15823.855   \\\\\n",
              "\\textbf{}                        &   - 04-05-2013   & \\textbf{                     } &             \\\\\n",
              "\\textbf{Covariance Type:}        &       opg        & \\textbf{                     } &             \\\\\n",
              "\\bottomrule\n",
              "\\end{tabular}\n",
              "\\begin{tabular}{lcccccc}\n",
              "                & \\textbf{coef} & \\textbf{std err} & \\textbf{z} & \\textbf{P$> |$z$|$} & \\textbf{[0.025} & \\textbf{0.975]}  \\\\\n",
              "\\midrule\n",
              "\\textbf{const}  &       0.0189  &        0.015     &     1.248  &         0.212        &       -0.011    &        0.048     \\\\\n",
              "\\textbf{ar.L1}  &      -0.5074  &        0.062     &    -8.155  &         0.000        &       -0.629    &       -0.385     \\\\\n",
              "\\textbf{ar.L2}  &      -0.0638  &        0.009     &    -7.027  &         0.000        &       -0.082    &       -0.046     \\\\\n",
              "\\textbf{ar.L3}  &      -0.1102  &        0.008     &   -13.610  &         0.000        &       -0.126    &       -0.094     \\\\\n",
              "\\textbf{ma.L1}  &       0.4836  &        0.064     &     7.608  &         0.000        &        0.359    &        0.608     \\\\\n",
              "\\textbf{sigma2} &       1.3623  &        0.015     &    92.782  &         0.000        &        1.334    &        1.391     \\\\\n",
              "\\bottomrule\n",
              "\\end{tabular}\n",
              "\\begin{tabular}{lclc}\n",
              "\\textbf{Ljung-Box (L1) (Q):}     & 0.01 & \\textbf{  Jarque-Bera (JB):  } & 6490.60  \\\\\n",
              "\\textbf{Prob(Q):}                & 0.94 & \\textbf{  Prob(JB):          } &   0.00   \\\\\n",
              "\\textbf{Heteroskedasticity (H):} & 2.00 & \\textbf{  Skew:              } &  -0.14   \\\\\n",
              "\\textbf{Prob(H) (two-sided):}    & 0.00 & \\textbf{  Kurtosis:          } &   8.56   \\\\\n",
              "\\bottomrule\n",
              "\\end{tabular}\n",
              "%\\caption{SARIMAX Results}\n",
              "\\end{center}\n",
              "\n",
              "Warnings: \\newline\n",
              " [1] Covariance matrix calculated using the outer product of gradients (complex-step)."
            ],
            "text/plain": [
              "<class 'statsmodels.iolib.summary.Summary'>\n",
              "\"\"\"\n",
              "                               SARIMAX Results                                \n",
              "==============================================================================\n",
              "Dep. Variable:                returns   No. Observations:                 5020\n",
              "Model:                 ARIMA(3, 0, 1)   Log Likelihood               -7899.072\n",
              "Date:                Sun, 10 Mar 2024   AIC                          15810.144\n",
              "Time:                        17:56:33   BIC                          15849.271\n",
              "Sample:                    01-10-1994   HQIC                         15823.855\n",
              "                         - 04-05-2013                                         \n",
              "Covariance Type:                  opg                                         \n",
              "==============================================================================\n",
              "                 coef    std err          z      P>|z|      [0.025      0.975]\n",
              "------------------------------------------------------------------------------\n",
              "const          0.0189      0.015      1.248      0.212      -0.011       0.048\n",
              "ar.L1         -0.5074      0.062     -8.155      0.000      -0.629      -0.385\n",
              "ar.L2         -0.0638      0.009     -7.027      0.000      -0.082      -0.046\n",
              "ar.L3         -0.1102      0.008    -13.610      0.000      -0.126      -0.094\n",
              "ma.L1          0.4836      0.064      7.608      0.000       0.359       0.608\n",
              "sigma2         1.3623      0.015     92.782      0.000       1.334       1.391\n",
              "===================================================================================\n",
              "Ljung-Box (L1) (Q):                   0.01   Jarque-Bera (JB):              6490.60\n",
              "Prob(Q):                              0.94   Prob(JB):                         0.00\n",
              "Heteroskedasticity (H):               2.00   Skew:                            -0.14\n",
              "Prob(H) (two-sided):                  0.00   Kurtosis:                         8.56\n",
              "===================================================================================\n",
              "\n",
              "Warnings:\n",
              "[1] Covariance matrix calculated using the outer product of gradients (complex-step).\n",
              "\"\"\""
            ]
          },
          "execution_count": 18,
          "metadata": {},
          "output_type": "execute_result"
        }
      ],
      "source": [
        "model_ret_ar_3_ma_1 = ARIMA(df.returns[1:], order=(3,0,1))\n",
        "results_ret_ar_3_ma_1 = model_ret_ar_3_ma_1.fit()\n",
        "results_ret_ar_3_ma_1.summary()"
      ]
    },
    {
      "cell_type": "code",
      "execution_count": 19,
      "metadata": {
        "colab": {
          "base_uri": "https://localhost:8080/",
          "height": 35
        },
        "colab_type": "code",
        "id": "nm3KLFVA7rUw",
        "outputId": "04c80fb9-e1de-4145-b75e-7edcb0a3827e"
      },
      "outputs": [
        {
          "data": {
            "text/plain": [
              "0.01"
            ]
          },
          "execution_count": 19,
          "metadata": {},
          "output_type": "execute_result"
        }
      ],
      "source": [
        "LLR_test(results_ret_ar_3_ma_1, results_ret_ar_3_ma_2)"
      ]
    },
    {
      "cell_type": "code",
      "execution_count": 20,
      "metadata": {
        "colab": {
          "base_uri": "https://localhost:8080/",
          "height": 424
        },
        "colab_type": "code",
        "id": "4V8A3CJJ7rUy",
        "outputId": "00639f50-b28c-4fd2-b4a9-bd0e61a360d7"
      },
      "outputs": [
        {
          "data": {
            "text/html": [
              "<table class=\"simpletable\">\n",
              "<caption>SARIMAX Results</caption>\n",
              "<tr>\n",
              "  <th>Dep. Variable:</th>        <td>returns</td>     <th>  No. Observations:  </th>   <td>5020</td>   \n",
              "</tr>\n",
              "<tr>\n",
              "  <th>Model:</th>            <td>ARIMA(2, 0, 2)</td>  <th>  Log Likelihood     </th> <td>-7914.692</td>\n",
              "</tr>\n",
              "<tr>\n",
              "  <th>Date:</th>            <td>Sun, 10 Mar 2024</td> <th>  AIC                </th> <td>15841.384</td>\n",
              "</tr>\n",
              "<tr>\n",
              "  <th>Time:</th>                <td>17:56:35</td>     <th>  BIC                </th> <td>15880.511</td>\n",
              "</tr>\n",
              "<tr>\n",
              "  <th>Sample:</th>             <td>01-10-1994</td>    <th>  HQIC               </th> <td>15855.095</td>\n",
              "</tr>\n",
              "<tr>\n",
              "  <th></th>                   <td>- 04-05-2013</td>   <th>                     </th>     <td> </td>    \n",
              "</tr>\n",
              "<tr>\n",
              "  <th>Covariance Type:</th>        <td>opg</td>       <th>                     </th>     <td> </td>    \n",
              "</tr>\n",
              "</table>\n",
              "<table class=\"simpletable\">\n",
              "<tr>\n",
              "     <td></td>       <th>coef</th>     <th>std err</th>      <th>z</th>      <th>P>|z|</th>  <th>[0.025</th>    <th>0.975]</th>  \n",
              "</tr>\n",
              "<tr>\n",
              "  <th>const</th>  <td>    0.0189</td> <td>    0.015</td> <td>    1.290</td> <td> 0.197</td> <td>   -0.010</td> <td>    0.048</td>\n",
              "</tr>\n",
              "<tr>\n",
              "  <th>ar.L1</th>  <td>   -0.0969</td> <td>    0.091</td> <td>   -1.068</td> <td> 0.286</td> <td>   -0.275</td> <td>    0.081</td>\n",
              "</tr>\n",
              "<tr>\n",
              "  <th>ar.L2</th>  <td>    0.6975</td> <td>    0.066</td> <td>   10.509</td> <td> 0.000</td> <td>    0.567</td> <td>    0.828</td>\n",
              "</tr>\n",
              "<tr>\n",
              "  <th>ma.L1</th>  <td>    0.0399</td> <td>    0.092</td> <td>    0.435</td> <td> 0.663</td> <td>   -0.140</td> <td>    0.220</td>\n",
              "</tr>\n",
              "<tr>\n",
              "  <th>ma.L2</th>  <td>   -0.7259</td> <td>    0.071</td> <td>  -10.274</td> <td> 0.000</td> <td>   -0.864</td> <td>   -0.587</td>\n",
              "</tr>\n",
              "<tr>\n",
              "  <th>sigma2</th> <td>    1.3708</td> <td>    0.014</td> <td>   95.248</td> <td> 0.000</td> <td>    1.343</td> <td>    1.399</td>\n",
              "</tr>\n",
              "</table>\n",
              "<table class=\"simpletable\">\n",
              "<tr>\n",
              "  <th>Ljung-Box (L1) (Q):</th>     <td>4.33</td> <th>  Jarque-Bera (JB):  </th> <td>7237.20</td>\n",
              "</tr>\n",
              "<tr>\n",
              "  <th>Prob(Q):</th>                <td>0.04</td> <th>  Prob(JB):          </th>  <td>0.00</td>  \n",
              "</tr>\n",
              "<tr>\n",
              "  <th>Heteroskedasticity (H):</th> <td>2.02</td> <th>  Skew:              </th>  <td>-0.19</td> \n",
              "</tr>\n",
              "<tr>\n",
              "  <th>Prob(H) (two-sided):</th>    <td>0.00</td> <th>  Kurtosis:          </th>  <td>8.87</td>  \n",
              "</tr>\n",
              "</table><br/><br/>Warnings:<br/>[1] Covariance matrix calculated using the outer product of gradients (complex-step)."
            ],
            "text/latex": [
              "\\begin{center}\n",
              "\\begin{tabular}{lclc}\n",
              "\\toprule\n",
              "\\textbf{Dep. Variable:}          &     returns      & \\textbf{  No. Observations:  } &    5020     \\\\\n",
              "\\textbf{Model:}                  &  ARIMA(2, 0, 2)  & \\textbf{  Log Likelihood     } & -7914.692   \\\\\n",
              "\\textbf{Date:}                   & Sun, 10 Mar 2024 & \\textbf{  AIC                } & 15841.384   \\\\\n",
              "\\textbf{Time:}                   &     17:56:35     & \\textbf{  BIC                } & 15880.511   \\\\\n",
              "\\textbf{Sample:}                 &    01-10-1994    & \\textbf{  HQIC               } & 15855.095   \\\\\n",
              "\\textbf{}                        &   - 04-05-2013   & \\textbf{                     } &             \\\\\n",
              "\\textbf{Covariance Type:}        &       opg        & \\textbf{                     } &             \\\\\n",
              "\\bottomrule\n",
              "\\end{tabular}\n",
              "\\begin{tabular}{lcccccc}\n",
              "                & \\textbf{coef} & \\textbf{std err} & \\textbf{z} & \\textbf{P$> |$z$|$} & \\textbf{[0.025} & \\textbf{0.975]}  \\\\\n",
              "\\midrule\n",
              "\\textbf{const}  &       0.0189  &        0.015     &     1.290  &         0.197        &       -0.010    &        0.048     \\\\\n",
              "\\textbf{ar.L1}  &      -0.0969  &        0.091     &    -1.068  &         0.286        &       -0.275    &        0.081     \\\\\n",
              "\\textbf{ar.L2}  &       0.6975  &        0.066     &    10.509  &         0.000        &        0.567    &        0.828     \\\\\n",
              "\\textbf{ma.L1}  &       0.0399  &        0.092     &     0.435  &         0.663        &       -0.140    &        0.220     \\\\\n",
              "\\textbf{ma.L2}  &      -0.7259  &        0.071     &   -10.274  &         0.000        &       -0.864    &       -0.587     \\\\\n",
              "\\textbf{sigma2} &       1.3708  &        0.014     &    95.248  &         0.000        &        1.343    &        1.399     \\\\\n",
              "\\bottomrule\n",
              "\\end{tabular}\n",
              "\\begin{tabular}{lclc}\n",
              "\\textbf{Ljung-Box (L1) (Q):}     & 4.33 & \\textbf{  Jarque-Bera (JB):  } & 7237.20  \\\\\n",
              "\\textbf{Prob(Q):}                & 0.04 & \\textbf{  Prob(JB):          } &   0.00   \\\\\n",
              "\\textbf{Heteroskedasticity (H):} & 2.02 & \\textbf{  Skew:              } &  -0.19   \\\\\n",
              "\\textbf{Prob(H) (two-sided):}    & 0.00 & \\textbf{  Kurtosis:          } &   8.87   \\\\\n",
              "\\bottomrule\n",
              "\\end{tabular}\n",
              "%\\caption{SARIMAX Results}\n",
              "\\end{center}\n",
              "\n",
              "Warnings: \\newline\n",
              " [1] Covariance matrix calculated using the outer product of gradients (complex-step)."
            ],
            "text/plain": [
              "<class 'statsmodels.iolib.summary.Summary'>\n",
              "\"\"\"\n",
              "                               SARIMAX Results                                \n",
              "==============================================================================\n",
              "Dep. Variable:                returns   No. Observations:                 5020\n",
              "Model:                 ARIMA(2, 0, 2)   Log Likelihood               -7914.692\n",
              "Date:                Sun, 10 Mar 2024   AIC                          15841.384\n",
              "Time:                        17:56:35   BIC                          15880.511\n",
              "Sample:                    01-10-1994   HQIC                         15855.095\n",
              "                         - 04-05-2013                                         \n",
              "Covariance Type:                  opg                                         \n",
              "==============================================================================\n",
              "                 coef    std err          z      P>|z|      [0.025      0.975]\n",
              "------------------------------------------------------------------------------\n",
              "const          0.0189      0.015      1.290      0.197      -0.010       0.048\n",
              "ar.L1         -0.0969      0.091     -1.068      0.286      -0.275       0.081\n",
              "ar.L2          0.6975      0.066     10.509      0.000       0.567       0.828\n",
              "ma.L1          0.0399      0.092      0.435      0.663      -0.140       0.220\n",
              "ma.L2         -0.7259      0.071    -10.274      0.000      -0.864      -0.587\n",
              "sigma2         1.3708      0.014     95.248      0.000       1.343       1.399\n",
              "===================================================================================\n",
              "Ljung-Box (L1) (Q):                   4.33   Jarque-Bera (JB):              7237.20\n",
              "Prob(Q):                              0.04   Prob(JB):                         0.00\n",
              "Heteroskedasticity (H):               2.02   Skew:                            -0.19\n",
              "Prob(H) (two-sided):                  0.00   Kurtosis:                         8.87\n",
              "===================================================================================\n",
              "\n",
              "Warnings:\n",
              "[1] Covariance matrix calculated using the outer product of gradients (complex-step).\n",
              "\"\"\""
            ]
          },
          "execution_count": 20,
          "metadata": {},
          "output_type": "execute_result"
        }
      ],
      "source": [
        "model_ret_ar_2_ma_2 = ARIMA(df.returns[1:], order=(2,0,2))\n",
        "results_ret_ar_2_ma_2 = model_ret_ar_2_ma_2.fit()\n",
        "results_ret_ar_2_ma_2.summary()"
      ]
    },
    {
      "cell_type": "code",
      "execution_count": 21,
      "metadata": {
        "colab": {
          "base_uri": "https://localhost:8080/",
          "height": 424
        },
        "colab_type": "code",
        "id": "XsSvUxSk7rU0",
        "outputId": "c055734c-a4b3-4268-b5f9-8d6dd99a8a2f"
      },
      "outputs": [
        {
          "data": {
            "text/html": [
              "<table class=\"simpletable\">\n",
              "<caption>SARIMAX Results</caption>\n",
              "<tr>\n",
              "  <th>Dep. Variable:</th>        <td>returns</td>     <th>  No. Observations:  </th>   <td>5020</td>   \n",
              "</tr>\n",
              "<tr>\n",
              "  <th>Model:</th>            <td>ARIMA(1, 0, 3)</td>  <th>  Log Likelihood     </th> <td>-7896.838</td>\n",
              "</tr>\n",
              "<tr>\n",
              "  <th>Date:</th>            <td>Sun, 10 Mar 2024</td> <th>  AIC                </th> <td>15805.676</td>\n",
              "</tr>\n",
              "<tr>\n",
              "  <th>Time:</th>                <td>17:56:36</td>     <th>  BIC                </th> <td>15844.803</td>\n",
              "</tr>\n",
              "<tr>\n",
              "  <th>Sample:</th>             <td>01-10-1994</td>    <th>  HQIC               </th> <td>15819.386</td>\n",
              "</tr>\n",
              "<tr>\n",
              "  <th></th>                   <td>- 04-05-2013</td>   <th>                     </th>     <td> </td>    \n",
              "</tr>\n",
              "<tr>\n",
              "  <th>Covariance Type:</th>        <td>opg</td>       <th>                     </th>     <td> </td>    \n",
              "</tr>\n",
              "</table>\n",
              "<table class=\"simpletable\">\n",
              "<tr>\n",
              "     <td></td>       <th>coef</th>     <th>std err</th>      <th>z</th>      <th>P>|z|</th>  <th>[0.025</th>    <th>0.975]</th>  \n",
              "</tr>\n",
              "<tr>\n",
              "  <th>const</th>  <td>    0.0189</td> <td>    0.015</td> <td>    1.265</td> <td> 0.206</td> <td>   -0.010</td> <td>    0.048</td>\n",
              "</tr>\n",
              "<tr>\n",
              "  <th>ar.L1</th>  <td>   -0.4693</td> <td>    0.060</td> <td>   -7.878</td> <td> 0.000</td> <td>   -0.586</td> <td>   -0.353</td>\n",
              "</tr>\n",
              "<tr>\n",
              "  <th>ma.L1</th>  <td>    0.4469</td> <td>    0.060</td> <td>    7.437</td> <td> 0.000</td> <td>    0.329</td> <td>    0.565</td>\n",
              "</tr>\n",
              "<tr>\n",
              "  <th>ma.L2</th>  <td>   -0.0637</td> <td>    0.009</td> <td>   -7.277</td> <td> 0.000</td> <td>   -0.081</td> <td>   -0.047</td>\n",
              "</tr>\n",
              "<tr>\n",
              "  <th>ma.L3</th>  <td>   -0.1182</td> <td>    0.008</td> <td>  -14.693</td> <td> 0.000</td> <td>   -0.134</td> <td>   -0.102</td>\n",
              "</tr>\n",
              "<tr>\n",
              "  <th>sigma2</th> <td>    1.3610</td> <td>    0.015</td> <td>   92.540</td> <td> 0.000</td> <td>    1.332</td> <td>    1.390</td>\n",
              "</tr>\n",
              "</table>\n",
              "<table class=\"simpletable\">\n",
              "<tr>\n",
              "  <th>Ljung-Box (L1) (Q):</th>     <td>0.00</td> <th>  Jarque-Bera (JB):  </th> <td>6401.49</td>\n",
              "</tr>\n",
              "<tr>\n",
              "  <th>Prob(Q):</th>                <td>0.96</td> <th>  Prob(JB):          </th>  <td>0.00</td>  \n",
              "</tr>\n",
              "<tr>\n",
              "  <th>Heteroskedasticity (H):</th> <td>2.00</td> <th>  Skew:              </th>  <td>-0.16</td> \n",
              "</tr>\n",
              "<tr>\n",
              "  <th>Prob(H) (two-sided):</th>    <td>0.00</td> <th>  Kurtosis:          </th>  <td>8.52</td>  \n",
              "</tr>\n",
              "</table><br/><br/>Warnings:<br/>[1] Covariance matrix calculated using the outer product of gradients (complex-step)."
            ],
            "text/latex": [
              "\\begin{center}\n",
              "\\begin{tabular}{lclc}\n",
              "\\toprule\n",
              "\\textbf{Dep. Variable:}          &     returns      & \\textbf{  No. Observations:  } &    5020     \\\\\n",
              "\\textbf{Model:}                  &  ARIMA(1, 0, 3)  & \\textbf{  Log Likelihood     } & -7896.838   \\\\\n",
              "\\textbf{Date:}                   & Sun, 10 Mar 2024 & \\textbf{  AIC                } & 15805.676   \\\\\n",
              "\\textbf{Time:}                   &     17:56:36     & \\textbf{  BIC                } & 15844.803   \\\\\n",
              "\\textbf{Sample:}                 &    01-10-1994    & \\textbf{  HQIC               } & 15819.386   \\\\\n",
              "\\textbf{}                        &   - 04-05-2013   & \\textbf{                     } &             \\\\\n",
              "\\textbf{Covariance Type:}        &       opg        & \\textbf{                     } &             \\\\\n",
              "\\bottomrule\n",
              "\\end{tabular}\n",
              "\\begin{tabular}{lcccccc}\n",
              "                & \\textbf{coef} & \\textbf{std err} & \\textbf{z} & \\textbf{P$> |$z$|$} & \\textbf{[0.025} & \\textbf{0.975]}  \\\\\n",
              "\\midrule\n",
              "\\textbf{const}  &       0.0189  &        0.015     &     1.265  &         0.206        &       -0.010    &        0.048     \\\\\n",
              "\\textbf{ar.L1}  &      -0.4693  &        0.060     &    -7.878  &         0.000        &       -0.586    &       -0.353     \\\\\n",
              "\\textbf{ma.L1}  &       0.4469  &        0.060     &     7.437  &         0.000        &        0.329    &        0.565     \\\\\n",
              "\\textbf{ma.L2}  &      -0.0637  &        0.009     &    -7.277  &         0.000        &       -0.081    &       -0.047     \\\\\n",
              "\\textbf{ma.L3}  &      -0.1182  &        0.008     &   -14.693  &         0.000        &       -0.134    &       -0.102     \\\\\n",
              "\\textbf{sigma2} &       1.3610  &        0.015     &    92.540  &         0.000        &        1.332    &        1.390     \\\\\n",
              "\\bottomrule\n",
              "\\end{tabular}\n",
              "\\begin{tabular}{lclc}\n",
              "\\textbf{Ljung-Box (L1) (Q):}     & 0.00 & \\textbf{  Jarque-Bera (JB):  } & 6401.49  \\\\\n",
              "\\textbf{Prob(Q):}                & 0.96 & \\textbf{  Prob(JB):          } &   0.00   \\\\\n",
              "\\textbf{Heteroskedasticity (H):} & 2.00 & \\textbf{  Skew:              } &  -0.16   \\\\\n",
              "\\textbf{Prob(H) (two-sided):}    & 0.00 & \\textbf{  Kurtosis:          } &   8.52   \\\\\n",
              "\\bottomrule\n",
              "\\end{tabular}\n",
              "%\\caption{SARIMAX Results}\n",
              "\\end{center}\n",
              "\n",
              "Warnings: \\newline\n",
              " [1] Covariance matrix calculated using the outer product of gradients (complex-step)."
            ],
            "text/plain": [
              "<class 'statsmodels.iolib.summary.Summary'>\n",
              "\"\"\"\n",
              "                               SARIMAX Results                                \n",
              "==============================================================================\n",
              "Dep. Variable:                returns   No. Observations:                 5020\n",
              "Model:                 ARIMA(1, 0, 3)   Log Likelihood               -7896.838\n",
              "Date:                Sun, 10 Mar 2024   AIC                          15805.676\n",
              "Time:                        17:56:36   BIC                          15844.803\n",
              "Sample:                    01-10-1994   HQIC                         15819.386\n",
              "                         - 04-05-2013                                         \n",
              "Covariance Type:                  opg                                         \n",
              "==============================================================================\n",
              "                 coef    std err          z      P>|z|      [0.025      0.975]\n",
              "------------------------------------------------------------------------------\n",
              "const          0.0189      0.015      1.265      0.206      -0.010       0.048\n",
              "ar.L1         -0.4693      0.060     -7.878      0.000      -0.586      -0.353\n",
              "ma.L1          0.4469      0.060      7.437      0.000       0.329       0.565\n",
              "ma.L2         -0.0637      0.009     -7.277      0.000      -0.081      -0.047\n",
              "ma.L3         -0.1182      0.008    -14.693      0.000      -0.134      -0.102\n",
              "sigma2         1.3610      0.015     92.540      0.000       1.332       1.390\n",
              "===================================================================================\n",
              "Ljung-Box (L1) (Q):                   0.00   Jarque-Bera (JB):              6401.49\n",
              "Prob(Q):                              0.96   Prob(JB):                         0.00\n",
              "Heteroskedasticity (H):               2.00   Skew:                            -0.16\n",
              "Prob(H) (two-sided):                  0.00   Kurtosis:                         8.52\n",
              "===================================================================================\n",
              "\n",
              "Warnings:\n",
              "[1] Covariance matrix calculated using the outer product of gradients (complex-step).\n",
              "\"\"\""
            ]
          },
          "execution_count": 21,
          "metadata": {},
          "output_type": "execute_result"
        }
      ],
      "source": [
        "model_ret_ar_1_ma_3 = ARIMA(df.returns[1:], order=(1,0,3))\n",
        "results_ret_ar_1_ma_3 = model_ret_ar_1_ma_3.fit()\n",
        "results_ret_ar_1_ma_3.summary()"
      ]
    },
    {
      "cell_type": "code",
      "execution_count": 22,
      "metadata": {
        "colab": {
          "base_uri": "https://localhost:8080/",
          "height": 88
        },
        "colab_type": "code",
        "id": "efNSprt57rU2",
        "outputId": "3b364e6e-550c-43a1-b826-8a569ee734d4"
      },
      "outputs": [
        {
          "name": "stdout",
          "output_type": "stream",
          "text": [
            "\n",
            " ARMA(3,2): \tLL =  -7895.747490025735 \tAIC =  15805.49498005147\n",
            "\n",
            " ARMA(1,3): \tLL =  -7896.83790920579 \tAIC =  15805.67581841158\n"
          ]
        }
      ],
      "source": [
        "print(\"\\n ARMA(3,2): \\tLL = \", results_ret_ar_3_ma_2.llf, \"\\tAIC = \", results_ret_ar_3_ma_2.aic)\n",
        "print(\"\\n ARMA(1,3): \\tLL = \", results_ret_ar_1_ma_3.llf, \"\\tAIC = \", results_ret_ar_1_ma_3.aic)"
      ]
    },
    {
      "cell_type": "markdown",
      "metadata": {
        "colab_type": "text",
        "id": "bcCIUqdk7rU5"
      },
      "source": [
        "## Residuals for Returns"
      ]
    },
    {
      "cell_type": "code",
      "execution_count": 30,
      "metadata": {
        "colab": {},
        "colab_type": "code",
        "id": "REQyLlnX7rU5"
      },
      "outputs": [],
      "source": [
        "df['res_ret_ar_3_ma_2'] = results_ret_ar_3_ma_2.resid"
      ]
    },
    {
      "cell_type": "code",
      "execution_count": 32,
      "metadata": {
        "colab": {
          "base_uri": "https://localhost:8080/",
          "height": 364
        },
        "colab_type": "code",
        "id": "MF3d3GPU7rU8",
        "outputId": "05c12e5c-c21d-4a0b-bb07-6b96653b34bb"
      },
      "outputs": [
        {
          "data": {
            "image/png": "[encoded data removed]",
            "text/plain": [
              "<Figure size 2000x500 with 1 Axes>"
            ]
          },
          "metadata": {},
          "output_type": "display_data"
        }
      ],
      "source": [
        "df.res_ret_ar_3_ma_2.plot(figsize = (20,5))\n",
        "plt.title(\"Residuals of Returns\", size=24)\n",
        "plt.show()"
      ]
    },
    {
      "cell_type": "code",
      "execution_count": 37,
      "metadata": {
        "colab": {
          "base_uri": "https://localhost:8080/",
          "height": 293
        },
        "colab_type": "code",
        "id": "WBFVqXLU7rU-",
        "outputId": "8ee4c34e-3a27-47ed-c195-114d0a543bfc"
      },
      "outputs": [
        {
          "data": {
            "image/png": "[encoded data removed]",
            "text/plain": [
              "<Figure size 640x480 with 1 Axes>"
            ]
          },
          "metadata": {},
          "output_type": "display_data"
        }
      ],
      "source": [
        "sgt.plot_acf(df.res_ret_ar_3_ma_2[1:], zero = False, lags = 40)\n",
        "plt.title(\"ACF Of Residuals for Returns\",size=24)\n",
        "plt.ylim(-0.1, 0.065) \n",
        "plt.show()"
      ]
    },
    {
      "cell_type": "markdown",
      "metadata": {
        "colab_type": "text",
        "id": "942CxfKg7rVB"
      },
      "source": [
        "## Reevaluating Model Selection"
      ]
    },
    {
      "cell_type": "code",
      "execution_count": 28,
      "metadata": {
        "colab": {
          "base_uri": "https://localhost:8080/",
          "height": 669
        },
        "colab_type": "code",
        "id": "8k6PUY8F7rVB",
        "outputId": "90e0ba53-6f0b-4345-f778-944b2bddcac0"
      },
      "outputs": [
        {
          "data": {
            "text/html": [
              "<table class=\"simpletable\">\n",
              "<caption>SARIMAX Results</caption>\n",
              "<tr>\n",
              "  <th>Dep. Variable:</th>        <td>returns</td>     <th>  No. Observations:  </th>   <td>5020</td>   \n",
              "</tr>\n",
              "<tr>\n",
              "  <th>Model:</th>            <td>ARIMA(5, 0, 5)</td>  <th>  Log Likelihood     </th> <td>-7883.294</td>\n",
              "</tr>\n",
              "<tr>\n",
              "  <th>Date:</th>            <td>Sun, 10 Mar 2024</td> <th>  AIC                </th> <td>15790.588</td>\n",
              "</tr>\n",
              "<tr>\n",
              "  <th>Time:</th>                <td>17:55:58</td>     <th>  BIC                </th> <td>15868.842</td>\n",
              "</tr>\n",
              "<tr>\n",
              "  <th>Sample:</th>             <td>01-10-1994</td>    <th>  HQIC               </th> <td>15818.009</td>\n",
              "</tr>\n",
              "<tr>\n",
              "  <th></th>                   <td>- 04-05-2013</td>   <th>                     </th>     <td> </td>    \n",
              "</tr>\n",
              "<tr>\n",
              "  <th>Covariance Type:</th>        <td>opg</td>       <th>                     </th>     <td> </td>    \n",
              "</tr>\n",
              "</table>\n",
              "<table class=\"simpletable\">\n",
              "<tr>\n",
              "     <td></td>       <th>coef</th>     <th>std err</th>      <th>z</th>      <th>P>|z|</th>  <th>[0.025</th>    <th>0.975]</th>  \n",
              "</tr>\n",
              "<tr>\n",
              "  <th>const</th>  <td>    0.0184</td> <td>    0.015</td> <td>    1.243</td> <td> 0.214</td> <td>   -0.011</td> <td>    0.047</td>\n",
              "</tr>\n",
              "<tr>\n",
              "  <th>ar.L1</th>  <td>   -0.0587</td> <td>    0.133</td> <td>   -0.440</td> <td> 0.660</td> <td>   -0.320</td> <td>    0.203</td>\n",
              "</tr>\n",
              "<tr>\n",
              "  <th>ar.L2</th>  <td>   -0.5269</td> <td>    0.087</td> <td>   -6.076</td> <td> 0.000</td> <td>   -0.697</td> <td>   -0.357</td>\n",
              "</tr>\n",
              "<tr>\n",
              "  <th>ar.L3</th>  <td>   -0.0632</td> <td>    0.079</td> <td>   -0.805</td> <td> 0.421</td> <td>   -0.217</td> <td>    0.091</td>\n",
              "</tr>\n",
              "<tr>\n",
              "  <th>ar.L4</th>  <td>    0.2418</td> <td>    0.076</td> <td>    3.176</td> <td> 0.001</td> <td>    0.093</td> <td>    0.391</td>\n",
              "</tr>\n",
              "<tr>\n",
              "  <th>ar.L5</th>  <td>    0.1230</td> <td>    0.095</td> <td>    1.296</td> <td> 0.195</td> <td>   -0.063</td> <td>    0.309</td>\n",
              "</tr>\n",
              "<tr>\n",
              "  <th>ma.L1</th>  <td>    0.0312</td> <td>    0.133</td> <td>    0.234</td> <td> 0.815</td> <td>   -0.230</td> <td>    0.292</td>\n",
              "</tr>\n",
              "<tr>\n",
              "  <th>ma.L2</th>  <td>    0.4792</td> <td>    0.087</td> <td>    5.504</td> <td> 0.000</td> <td>    0.309</td> <td>    0.650</td>\n",
              "</tr>\n",
              "<tr>\n",
              "  <th>ma.L3</th>  <td>   -0.0311</td> <td>    0.076</td> <td>   -0.411</td> <td> 0.681</td> <td>   -0.180</td> <td>    0.117</td>\n",
              "</tr>\n",
              "<tr>\n",
              "  <th>ma.L4</th>  <td>   -0.2241</td> <td>    0.075</td> <td>   -3.007</td> <td> 0.003</td> <td>   -0.370</td> <td>   -0.078</td>\n",
              "</tr>\n",
              "<tr>\n",
              "  <th>ma.L5</th>  <td>   -0.2086</td> <td>    0.090</td> <td>   -2.314</td> <td> 0.021</td> <td>   -0.385</td> <td>   -0.032</td>\n",
              "</tr>\n",
              "<tr>\n",
              "  <th>sigma2</th> <td>    1.3552</td> <td>    0.015</td> <td>   89.939</td> <td> 0.000</td> <td>    1.326</td> <td>    1.385</td>\n",
              "</tr>\n",
              "</table>\n",
              "<table class=\"simpletable\">\n",
              "<tr>\n",
              "  <th>Ljung-Box (L1) (Q):</th>     <td>0.05</td> <th>  Jarque-Bera (JB):  </th> <td>6488.74</td>\n",
              "</tr>\n",
              "<tr>\n",
              "  <th>Prob(Q):</th>                <td>0.82</td> <th>  Prob(JB):          </th>  <td>0.00</td>  \n",
              "</tr>\n",
              "<tr>\n",
              "  <th>Heteroskedasticity (H):</th> <td>1.99</td> <th>  Skew:              </th>  <td>-0.20</td> \n",
              "</tr>\n",
              "<tr>\n",
              "  <th>Prob(H) (two-sided):</th>    <td>0.00</td> <th>  Kurtosis:          </th>  <td>8.56</td>  \n",
              "</tr>\n",
              "</table><br/><br/>Warnings:<br/>[1] Covariance matrix calculated using the outer product of gradients (complex-step)."
            ],
            "text/latex": [
              "\\begin{center}\n",
              "\\begin{tabular}{lclc}\n",
              "\\toprule\n",
              "\\textbf{Dep. Variable:}          &     returns      & \\textbf{  No. Observations:  } &    5020     \\\\\n",
              "\\textbf{Model:}                  &  ARIMA(5, 0, 5)  & \\textbf{  Log Likelihood     } & -7883.294   \\\\\n",
              "\\textbf{Date:}                   & Sun, 10 Mar 2024 & \\textbf{  AIC                } & 15790.588   \\\\\n",
              "\\textbf{Time:}                   &     17:55:58     & \\textbf{  BIC                } & 15868.842   \\\\\n",
              "\\textbf{Sample:}                 &    01-10-1994    & \\textbf{  HQIC               } & 15818.009   \\\\\n",
              "\\textbf{}                        &   - 04-05-2013   & \\textbf{                     } &             \\\\\n",
              "\\textbf{Covariance Type:}        &       opg        & \\textbf{                     } &             \\\\\n",
              "\\bottomrule\n",
              "\\end{tabular}\n",
              "\\begin{tabular}{lcccccc}\n",
              "                & \\textbf{coef} & \\textbf{std err} & \\textbf{z} & \\textbf{P$> |$z$|$} & \\textbf{[0.025} & \\textbf{0.975]}  \\\\\n",
              "\\midrule\n",
              "\\textbf{const}  &       0.0184  &        0.015     &     1.243  &         0.214        &       -0.011    &        0.047     \\\\\n",
              "\\textbf{ar.L1}  &      -0.0587  &        0.133     &    -0.440  &         0.660        &       -0.320    &        0.203     \\\\\n",
              "\\textbf{ar.L2}  &      -0.5269  &        0.087     &    -6.076  &         0.000        &       -0.697    &       -0.357     \\\\\n",
              "\\textbf{ar.L3}  &      -0.0632  &        0.079     &    -0.805  &         0.421        &       -0.217    &        0.091     \\\\\n",
              "\\textbf{ar.L4}  &       0.2418  &        0.076     &     3.176  &         0.001        &        0.093    &        0.391     \\\\\n",
              "\\textbf{ar.L5}  &       0.1230  &        0.095     &     1.296  &         0.195        &       -0.063    &        0.309     \\\\\n",
              "\\textbf{ma.L1}  &       0.0312  &        0.133     &     0.234  &         0.815        &       -0.230    &        0.292     \\\\\n",
              "\\textbf{ma.L2}  &       0.4792  &        0.087     &     5.504  &         0.000        &        0.309    &        0.650     \\\\\n",
              "\\textbf{ma.L3}  &      -0.0311  &        0.076     &    -0.411  &         0.681        &       -0.180    &        0.117     \\\\\n",
              "\\textbf{ma.L4}  &      -0.2241  &        0.075     &    -3.007  &         0.003        &       -0.370    &       -0.078     \\\\\n",
              "\\textbf{ma.L5}  &      -0.2086  &        0.090     &    -2.314  &         0.021        &       -0.385    &       -0.032     \\\\\n",
              "\\textbf{sigma2} &       1.3552  &        0.015     &    89.939  &         0.000        &        1.326    &        1.385     \\\\\n",
              "\\bottomrule\n",
              "\\end{tabular}\n",
              "\\begin{tabular}{lclc}\n",
              "\\textbf{Ljung-Box (L1) (Q):}     & 0.05 & \\textbf{  Jarque-Bera (JB):  } & 6488.74  \\\\\n",
              "\\textbf{Prob(Q):}                & 0.82 & \\textbf{  Prob(JB):          } &   0.00   \\\\\n",
              "\\textbf{Heteroskedasticity (H):} & 1.99 & \\textbf{  Skew:              } &  -0.20   \\\\\n",
              "\\textbf{Prob(H) (two-sided):}    & 0.00 & \\textbf{  Kurtosis:          } &   8.56   \\\\\n",
              "\\bottomrule\n",
              "\\end{tabular}\n",
              "%\\caption{SARIMAX Results}\n",
              "\\end{center}\n",
              "\n",
              "Warnings: \\newline\n",
              " [1] Covariance matrix calculated using the outer product of gradients (complex-step)."
            ],
            "text/plain": [
              "<class 'statsmodels.iolib.summary.Summary'>\n",
              "\"\"\"\n",
              "                               SARIMAX Results                                \n",
              "==============================================================================\n",
              "Dep. Variable:                returns   No. Observations:                 5020\n",
              "Model:                 ARIMA(5, 0, 5)   Log Likelihood               -7883.294\n",
              "Date:                Sun, 10 Mar 2024   AIC                          15790.588\n",
              "Time:                        17:55:58   BIC                          15868.842\n",
              "Sample:                    01-10-1994   HQIC                         15818.009\n",
              "                         - 04-05-2013                                         \n",
              "Covariance Type:                  opg                                         \n",
              "==============================================================================\n",
              "                 coef    std err          z      P>|z|      [0.025      0.975]\n",
              "------------------------------------------------------------------------------\n",
              "const          0.0184      0.015      1.243      0.214      -0.011       0.047\n",
              "ar.L1         -0.0587      0.133     -0.440      0.660      -0.320       0.203\n",
              "ar.L2         -0.5269      0.087     -6.076      0.000      -0.697      -0.357\n",
              "ar.L3         -0.0632      0.079     -0.805      0.421      -0.217       0.091\n",
              "ar.L4          0.2418      0.076      3.176      0.001       0.093       0.391\n",
              "ar.L5          0.1230      0.095      1.296      0.195      -0.063       0.309\n",
              "ma.L1          0.0312      0.133      0.234      0.815      -0.230       0.292\n",
              "ma.L2          0.4792      0.087      5.504      0.000       0.309       0.650\n",
              "ma.L3         -0.0311      0.076     -0.411      0.681      -0.180       0.117\n",
              "ma.L4         -0.2241      0.075     -3.007      0.003      -0.370      -0.078\n",
              "ma.L5         -0.2086      0.090     -2.314      0.021      -0.385      -0.032\n",
              "sigma2         1.3552      0.015     89.939      0.000       1.326       1.385\n",
              "===================================================================================\n",
              "Ljung-Box (L1) (Q):                   0.05   Jarque-Bera (JB):              6488.74\n",
              "Prob(Q):                              0.82   Prob(JB):                         0.00\n",
              "Heteroskedasticity (H):               1.99   Skew:                            -0.20\n",
              "Prob(H) (two-sided):                  0.00   Kurtosis:                         8.56\n",
              "===================================================================================\n",
              "\n",
              "Warnings:\n",
              "[1] Covariance matrix calculated using the outer product of gradients (complex-step).\n",
              "\"\"\""
            ]
          },
          "execution_count": 28,
          "metadata": {},
          "output_type": "execute_result"
        }
      ],
      "source": [
        "model_ret_ar_5_ma_5 = ARIMA(df.returns[1:], order=(5,0,5))\n",
        "results_ret_ar_5_ma_5 = model_ret_ar_5_ma_5.fit()\n",
        "results_ret_ar_5_ma_5.summary()"
      ]
    },
    {
      "cell_type": "code",
      "execution_count": 39,
      "metadata": {
        "colab": {
          "base_uri": "https://localhost:8080/",
          "height": 506
        },
        "colab_type": "code",
        "id": "4VP0PAV27rVD",
        "outputId": "b0d7d6dd-b645-4721-9217-afa5c301be09"
      },
      "outputs": [
        {
          "data": {
            "text/html": [
              "<table class=\"simpletable\">\n",
              "<caption>SARIMAX Results</caption>\n",
              "<tr>\n",
              "  <th>Dep. Variable:</th>        <td>returns</td>     <th>  No. Observations:  </th>   <td>5020</td>   \n",
              "</tr>\n",
              "<tr>\n",
              "  <th>Model:</th>            <td>ARIMA(5, 0, 1)</td>  <th>  Log Likelihood     </th> <td>-7889.311</td>\n",
              "</tr>\n",
              "<tr>\n",
              "  <th>Date:</th>            <td>Sun, 10 Mar 2024</td> <th>  AIC                </th> <td>15794.623</td>\n",
              "</tr>\n",
              "<tr>\n",
              "  <th>Time:</th>                <td>18:02:14</td>     <th>  BIC                </th> <td>15846.792</td>\n",
              "</tr>\n",
              "<tr>\n",
              "  <th>Sample:</th>             <td>01-10-1994</td>    <th>  HQIC               </th> <td>15812.903</td>\n",
              "</tr>\n",
              "<tr>\n",
              "  <th></th>                   <td>- 04-05-2013</td>   <th>                     </th>     <td> </td>    \n",
              "</tr>\n",
              "<tr>\n",
              "  <th>Covariance Type:</th>        <td>opg</td>       <th>                     </th>     <td> </td>    \n",
              "</tr>\n",
              "</table>\n",
              "<table class=\"simpletable\">\n",
              "<tr>\n",
              "     <td></td>       <th>coef</th>     <th>std err</th>      <th>z</th>      <th>P>|z|</th>  <th>[0.025</th>    <th>0.975]</th>  \n",
              "</tr>\n",
              "<tr>\n",
              "  <th>const</th>  <td>    0.0189</td> <td>    0.015</td> <td>    1.301</td> <td> 0.193</td> <td>   -0.010</td> <td>    0.047</td>\n",
              "</tr>\n",
              "<tr>\n",
              "  <th>ar.L1</th>  <td>    0.3449</td> <td>    0.105</td> <td>    3.270</td> <td> 0.001</td> <td>    0.138</td> <td>    0.552</td>\n",
              "</tr>\n",
              "<tr>\n",
              "  <th>ar.L2</th>  <td>   -0.0458</td> <td>    0.009</td> <td>   -4.852</td> <td> 0.000</td> <td>   -0.064</td> <td>   -0.027</td>\n",
              "</tr>\n",
              "<tr>\n",
              "  <th>ar.L3</th>  <td>   -0.0651</td> <td>    0.010</td> <td>   -6.435</td> <td> 0.000</td> <td>   -0.085</td> <td>   -0.045</td>\n",
              "</tr>\n",
              "<tr>\n",
              "  <th>ar.L4</th>  <td>    0.0742</td> <td>    0.012</td> <td>    6.092</td> <td> 0.000</td> <td>    0.050</td> <td>    0.098</td>\n",
              "</tr>\n",
              "<tr>\n",
              "  <th>ar.L5</th>  <td>   -0.0813</td> <td>    0.009</td> <td>   -9.480</td> <td> 0.000</td> <td>   -0.098</td> <td>   -0.064</td>\n",
              "</tr>\n",
              "<tr>\n",
              "  <th>ma.L1</th>  <td>   -0.3682</td> <td>    0.106</td> <td>   -3.461</td> <td> 0.001</td> <td>   -0.577</td> <td>   -0.160</td>\n",
              "</tr>\n",
              "<tr>\n",
              "  <th>sigma2</th> <td>    1.3570</td> <td>    0.015</td> <td>   92.269</td> <td> 0.000</td> <td>    1.328</td> <td>    1.386</td>\n",
              "</tr>\n",
              "</table>\n",
              "<table class=\"simpletable\">\n",
              "<tr>\n",
              "  <th>Ljung-Box (L1) (Q):</th>     <td>0.01</td> <th>  Jarque-Bera (JB):  </th> <td>6468.96</td>\n",
              "</tr>\n",
              "<tr>\n",
              "  <th>Prob(Q):</th>                <td>0.94</td> <th>  Prob(JB):          </th>  <td>0.00</td>  \n",
              "</tr>\n",
              "<tr>\n",
              "  <th>Heteroskedasticity (H):</th> <td>2.00</td> <th>  Skew:              </th>  <td>-0.20</td> \n",
              "</tr>\n",
              "<tr>\n",
              "  <th>Prob(H) (two-sided):</th>    <td>0.00</td> <th>  Kurtosis:          </th>  <td>8.55</td>  \n",
              "</tr>\n",
              "</table><br/><br/>Warnings:<br/>[1] Covariance matrix calculated using the outer product of gradients (complex-step)."
            ],
            "text/latex": [
              "\\begin{center}\n",
              "\\begin{tabular}{lclc}\n",
              "\\toprule\n",
              "\\textbf{Dep. Variable:}          &     returns      & \\textbf{  No. Observations:  } &    5020     \\\\\n",
              "\\textbf{Model:}                  &  ARIMA(5, 0, 1)  & \\textbf{  Log Likelihood     } & -7889.311   \\\\\n",
              "\\textbf{Date:}                   & Sun, 10 Mar 2024 & \\textbf{  AIC                } & 15794.623   \\\\\n",
              "\\textbf{Time:}                   &     18:02:14     & \\textbf{  BIC                } & 15846.792   \\\\\n",
              "\\textbf{Sample:}                 &    01-10-1994    & \\textbf{  HQIC               } & 15812.903   \\\\\n",
              "\\textbf{}                        &   - 04-05-2013   & \\textbf{                     } &             \\\\\n",
              "\\textbf{Covariance Type:}        &       opg        & \\textbf{                     } &             \\\\\n",
              "\\bottomrule\n",
              "\\end{tabular}\n",
              "\\begin{tabular}{lcccccc}\n",
              "                & \\textbf{coef} & \\textbf{std err} & \\textbf{z} & \\textbf{P$> |$z$|$} & \\textbf{[0.025} & \\textbf{0.975]}  \\\\\n",
              "\\midrule\n",
              "\\textbf{const}  &       0.0189  &        0.015     &     1.301  &         0.193        &       -0.010    &        0.047     \\\\\n",
              "\\textbf{ar.L1}  &       0.3449  &        0.105     &     3.270  &         0.001        &        0.138    &        0.552     \\\\\n",
              "\\textbf{ar.L2}  &      -0.0458  &        0.009     &    -4.852  &         0.000        &       -0.064    &       -0.027     \\\\\n",
              "\\textbf{ar.L3}  &      -0.0651  &        0.010     &    -6.435  &         0.000        &       -0.085    &       -0.045     \\\\\n",
              "\\textbf{ar.L4}  &       0.0742  &        0.012     &     6.092  &         0.000        &        0.050    &        0.098     \\\\\n",
              "\\textbf{ar.L5}  &      -0.0813  &        0.009     &    -9.480  &         0.000        &       -0.098    &       -0.064     \\\\\n",
              "\\textbf{ma.L1}  &      -0.3682  &        0.106     &    -3.461  &         0.001        &       -0.577    &       -0.160     \\\\\n",
              "\\textbf{sigma2} &       1.3570  &        0.015     &    92.269  &         0.000        &        1.328    &        1.386     \\\\\n",
              "\\bottomrule\n",
              "\\end{tabular}\n",
              "\\begin{tabular}{lclc}\n",
              "\\textbf{Ljung-Box (L1) (Q):}     & 0.01 & \\textbf{  Jarque-Bera (JB):  } & 6468.96  \\\\\n",
              "\\textbf{Prob(Q):}                & 0.94 & \\textbf{  Prob(JB):          } &   0.00   \\\\\n",
              "\\textbf{Heteroskedasticity (H):} & 2.00 & \\textbf{  Skew:              } &  -0.20   \\\\\n",
              "\\textbf{Prob(H) (two-sided):}    & 0.00 & \\textbf{  Kurtosis:          } &   8.55   \\\\\n",
              "\\bottomrule\n",
              "\\end{tabular}\n",
              "%\\caption{SARIMAX Results}\n",
              "\\end{center}\n",
              "\n",
              "Warnings: \\newline\n",
              " [1] Covariance matrix calculated using the outer product of gradients (complex-step)."
            ],
            "text/plain": [
              "<class 'statsmodels.iolib.summary.Summary'>\n",
              "\"\"\"\n",
              "                               SARIMAX Results                                \n",
              "==============================================================================\n",
              "Dep. Variable:                returns   No. Observations:                 5020\n",
              "Model:                 ARIMA(5, 0, 1)   Log Likelihood               -7889.311\n",
              "Date:                Sun, 10 Mar 2024   AIC                          15794.623\n",
              "Time:                        18:02:14   BIC                          15846.792\n",
              "Sample:                    01-10-1994   HQIC                         15812.903\n",
              "                         - 04-05-2013                                         \n",
              "Covariance Type:                  opg                                         \n",
              "==============================================================================\n",
              "                 coef    std err          z      P>|z|      [0.025      0.975]\n",
              "------------------------------------------------------------------------------\n",
              "const          0.0189      0.015      1.301      0.193      -0.010       0.047\n",
              "ar.L1          0.3449      0.105      3.270      0.001       0.138       0.552\n",
              "ar.L2         -0.0458      0.009     -4.852      0.000      -0.064      -0.027\n",
              "ar.L3         -0.0651      0.010     -6.435      0.000      -0.085      -0.045\n",
              "ar.L4          0.0742      0.012      6.092      0.000       0.050       0.098\n",
              "ar.L5         -0.0813      0.009     -9.480      0.000      -0.098      -0.064\n",
              "ma.L1         -0.3682      0.106     -3.461      0.001      -0.577      -0.160\n",
              "sigma2         1.3570      0.015     92.269      0.000       1.328       1.386\n",
              "===================================================================================\n",
              "Ljung-Box (L1) (Q):                   0.01   Jarque-Bera (JB):              6468.96\n",
              "Prob(Q):                              0.94   Prob(JB):                         0.00\n",
              "Heteroskedasticity (H):               2.00   Skew:                            -0.20\n",
              "Prob(H) (two-sided):                  0.00   Kurtosis:                         8.55\n",
              "===================================================================================\n",
              "\n",
              "Warnings:\n",
              "[1] Covariance matrix calculated using the outer product of gradients (complex-step).\n",
              "\"\"\""
            ]
          },
          "execution_count": 39,
          "metadata": {},
          "output_type": "execute_result"
        }
      ],
      "source": [
        "model_ret_ar_5_ma_1 = ARIMA(df.returns[1:], order=(5,0,1))\n",
        "results_ret_ar_5_ma_1 = model_ret_ar_5_ma_1.fit()\n",
        "results_ret_ar_5_ma_1.summary()"
      ]
    },
    {
      "cell_type": "code",
      "execution_count": 38,
      "metadata": {
        "colab": {
          "base_uri": "https://localhost:8080/",
          "height": 506
        },
        "colab_type": "code",
        "id": "CRlodUjv7rVF",
        "outputId": "21d93dc9-eb66-4bef-e16f-ec5f1e60f016"
      },
      "outputs": [
        {
          "data": {
            "text/html": [
              "<table class=\"simpletable\">\n",
              "<caption>SARIMAX Results</caption>\n",
              "<tr>\n",
              "  <th>Dep. Variable:</th>        <td>returns</td>     <th>  No. Observations:  </th>   <td>5020</td>   \n",
              "</tr>\n",
              "<tr>\n",
              "  <th>Model:</th>            <td>ARIMA(1, 0, 5)</td>  <th>  Log Likelihood     </th> <td>-7890.974</td>\n",
              "</tr>\n",
              "<tr>\n",
              "  <th>Date:</th>            <td>Sun, 10 Mar 2024</td> <th>  AIC                </th> <td>15797.949</td>\n",
              "</tr>\n",
              "<tr>\n",
              "  <th>Time:</th>                <td>18:02:06</td>     <th>  BIC                </th> <td>15850.118</td>\n",
              "</tr>\n",
              "<tr>\n",
              "  <th>Sample:</th>             <td>01-10-1994</td>    <th>  HQIC               </th> <td>15816.230</td>\n",
              "</tr>\n",
              "<tr>\n",
              "  <th></th>                   <td>- 04-05-2013</td>   <th>                     </th>     <td> </td>    \n",
              "</tr>\n",
              "<tr>\n",
              "  <th>Covariance Type:</th>        <td>opg</td>       <th>                     </th>     <td> </td>    \n",
              "</tr>\n",
              "</table>\n",
              "<table class=\"simpletable\">\n",
              "<tr>\n",
              "     <td></td>       <th>coef</th>     <th>std err</th>      <th>z</th>      <th>P>|z|</th>  <th>[0.025</th>    <th>0.975]</th>  \n",
              "</tr>\n",
              "<tr>\n",
              "  <th>const</th>  <td>    0.0189</td> <td>    0.015</td> <td>    1.297</td> <td> 0.194</td> <td>   -0.010</td> <td>    0.047</td>\n",
              "</tr>\n",
              "<tr>\n",
              "  <th>ar.L1</th>  <td>    0.3218</td> <td>    0.133</td> <td>    2.415</td> <td> 0.016</td> <td>    0.061</td> <td>    0.583</td>\n",
              "</tr>\n",
              "<tr>\n",
              "  <th>ma.L1</th>  <td>   -0.3467</td> <td>    0.134</td> <td>   -2.593</td> <td> 0.010</td> <td>   -0.609</td> <td>   -0.085</td>\n",
              "</tr>\n",
              "<tr>\n",
              "  <th>ma.L2</th>  <td>   -0.0406</td> <td>    0.010</td> <td>   -4.157</td> <td> 0.000</td> <td>   -0.060</td> <td>   -0.021</td>\n",
              "</tr>\n",
              "<tr>\n",
              "  <th>ma.L3</th>  <td>   -0.0682</td> <td>    0.011</td> <td>   -6.099</td> <td> 0.000</td> <td>   -0.090</td> <td>   -0.046</td>\n",
              "</tr>\n",
              "<tr>\n",
              "  <th>ma.L4</th>  <td>    0.0736</td> <td>    0.015</td> <td>    5.012</td> <td> 0.000</td> <td>    0.045</td> <td>    0.102</td>\n",
              "</tr>\n",
              "<tr>\n",
              "  <th>ma.L5</th>  <td>   -0.0682</td> <td>    0.009</td> <td>   -7.411</td> <td> 0.000</td> <td>   -0.086</td> <td>   -0.050</td>\n",
              "</tr>\n",
              "<tr>\n",
              "  <th>sigma2</th> <td>    1.3579</td> <td>    0.015</td> <td>   91.599</td> <td> 0.000</td> <td>    1.329</td> <td>    1.387</td>\n",
              "</tr>\n",
              "</table>\n",
              "<table class=\"simpletable\">\n",
              "<tr>\n",
              "  <th>Ljung-Box (L1) (Q):</th>     <td>0.00</td> <th>  Jarque-Bera (JB):  </th> <td>6465.72</td>\n",
              "</tr>\n",
              "<tr>\n",
              "  <th>Prob(Q):</th>                <td>0.95</td> <th>  Prob(JB):          </th>  <td>0.00</td>  \n",
              "</tr>\n",
              "<tr>\n",
              "  <th>Heteroskedasticity (H):</th> <td>2.00</td> <th>  Skew:              </th>  <td>-0.20</td> \n",
              "</tr>\n",
              "<tr>\n",
              "  <th>Prob(H) (two-sided):</th>    <td>0.00</td> <th>  Kurtosis:          </th>  <td>8.55</td>  \n",
              "</tr>\n",
              "</table><br/><br/>Warnings:<br/>[1] Covariance matrix calculated using the outer product of gradients (complex-step)."
            ],
            "text/latex": [
              "\\begin{center}\n",
              "\\begin{tabular}{lclc}\n",
              "\\toprule\n",
              "\\textbf{Dep. Variable:}          &     returns      & \\textbf{  No. Observations:  } &    5020     \\\\\n",
              "\\textbf{Model:}                  &  ARIMA(1, 0, 5)  & \\textbf{  Log Likelihood     } & -7890.974   \\\\\n",
              "\\textbf{Date:}                   & Sun, 10 Mar 2024 & \\textbf{  AIC                } & 15797.949   \\\\\n",
              "\\textbf{Time:}                   &     18:02:06     & \\textbf{  BIC                } & 15850.118   \\\\\n",
              "\\textbf{Sample:}                 &    01-10-1994    & \\textbf{  HQIC               } & 15816.230   \\\\\n",
              "\\textbf{}                        &   - 04-05-2013   & \\textbf{                     } &             \\\\\n",
              "\\textbf{Covariance Type:}        &       opg        & \\textbf{                     } &             \\\\\n",
              "\\bottomrule\n",
              "\\end{tabular}\n",
              "\\begin{tabular}{lcccccc}\n",
              "                & \\textbf{coef} & \\textbf{std err} & \\textbf{z} & \\textbf{P$> |$z$|$} & \\textbf{[0.025} & \\textbf{0.975]}  \\\\\n",
              "\\midrule\n",
              "\\textbf{const}  &       0.0189  &        0.015     &     1.297  &         0.194        &       -0.010    &        0.047     \\\\\n",
              "\\textbf{ar.L1}  &       0.3218  &        0.133     &     2.415  &         0.016        &        0.061    &        0.583     \\\\\n",
              "\\textbf{ma.L1}  &      -0.3467  &        0.134     &    -2.593  &         0.010        &       -0.609    &       -0.085     \\\\\n",
              "\\textbf{ma.L2}  &      -0.0406  &        0.010     &    -4.157  &         0.000        &       -0.060    &       -0.021     \\\\\n",
              "\\textbf{ma.L3}  &      -0.0682  &        0.011     &    -6.099  &         0.000        &       -0.090    &       -0.046     \\\\\n",
              "\\textbf{ma.L4}  &       0.0736  &        0.015     &     5.012  &         0.000        &        0.045    &        0.102     \\\\\n",
              "\\textbf{ma.L5}  &      -0.0682  &        0.009     &    -7.411  &         0.000        &       -0.086    &       -0.050     \\\\\n",
              "\\textbf{sigma2} &       1.3579  &        0.015     &    91.599  &         0.000        &        1.329    &        1.387     \\\\\n",
              "\\bottomrule\n",
              "\\end{tabular}\n",
              "\\begin{tabular}{lclc}\n",
              "\\textbf{Ljung-Box (L1) (Q):}     & 0.00 & \\textbf{  Jarque-Bera (JB):  } & 6465.72  \\\\\n",
              "\\textbf{Prob(Q):}                & 0.95 & \\textbf{  Prob(JB):          } &   0.00   \\\\\n",
              "\\textbf{Heteroskedasticity (H):} & 2.00 & \\textbf{  Skew:              } &  -0.20   \\\\\n",
              "\\textbf{Prob(H) (two-sided):}    & 0.00 & \\textbf{  Kurtosis:          } &   8.55   \\\\\n",
              "\\bottomrule\n",
              "\\end{tabular}\n",
              "%\\caption{SARIMAX Results}\n",
              "\\end{center}\n",
              "\n",
              "Warnings: \\newline\n",
              " [1] Covariance matrix calculated using the outer product of gradients (complex-step)."
            ],
            "text/plain": [
              "<class 'statsmodels.iolib.summary.Summary'>\n",
              "\"\"\"\n",
              "                               SARIMAX Results                                \n",
              "==============================================================================\n",
              "Dep. Variable:                returns   No. Observations:                 5020\n",
              "Model:                 ARIMA(1, 0, 5)   Log Likelihood               -7890.974\n",
              "Date:                Sun, 10 Mar 2024   AIC                          15797.949\n",
              "Time:                        18:02:06   BIC                          15850.118\n",
              "Sample:                    01-10-1994   HQIC                         15816.230\n",
              "                         - 04-05-2013                                         \n",
              "Covariance Type:                  opg                                         \n",
              "==============================================================================\n",
              "                 coef    std err          z      P>|z|      [0.025      0.975]\n",
              "------------------------------------------------------------------------------\n",
              "const          0.0189      0.015      1.297      0.194      -0.010       0.047\n",
              "ar.L1          0.3218      0.133      2.415      0.016       0.061       0.583\n",
              "ma.L1         -0.3467      0.134     -2.593      0.010      -0.609      -0.085\n",
              "ma.L2         -0.0406      0.010     -4.157      0.000      -0.060      -0.021\n",
              "ma.L3         -0.0682      0.011     -6.099      0.000      -0.090      -0.046\n",
              "ma.L4          0.0736      0.015      5.012      0.000       0.045       0.102\n",
              "ma.L5         -0.0682      0.009     -7.411      0.000      -0.086      -0.050\n",
              "sigma2         1.3579      0.015     91.599      0.000       1.329       1.387\n",
              "===================================================================================\n",
              "Ljung-Box (L1) (Q):                   0.00   Jarque-Bera (JB):              6465.72\n",
              "Prob(Q):                              0.95   Prob(JB):                         0.00\n",
              "Heteroskedasticity (H):               2.00   Skew:                            -0.20\n",
              "Prob(H) (two-sided):                  0.00   Kurtosis:                         8.55\n",
              "===================================================================================\n",
              "\n",
              "Warnings:\n",
              "[1] Covariance matrix calculated using the outer product of gradients (complex-step).\n",
              "\"\"\""
            ]
          },
          "execution_count": 38,
          "metadata": {},
          "output_type": "execute_result"
        }
      ],
      "source": [
        "model_ret_ar_1_ma_5 = ARIMA(df.returns[1:], order=(1,0,5))\n",
        "results_ret_ar_1_ma_5 = model_ret_ar_1_ma_5.fit()\n",
        "results_ret_ar_1_ma_5.summary()"
      ]
    },
    {
      "cell_type": "code",
      "execution_count": 40,
      "metadata": {
        "colab": {
          "base_uri": "https://localhost:8080/",
          "height": 52
        },
        "colab_type": "code",
        "id": "uOuhwGSB7rVH",
        "outputId": "ec5d5656-a139-4881-ba93-4a2bcde670a4"
      },
      "outputs": [
        {
          "name": "stdout",
          "output_type": "stream",
          "text": [
            "ARMA(5,1):  \t LL =  -7889.311305453215 \t AIC =  15794.62261090643\n",
            "ARMA(1,5):  \t LL =  -7890.974434537854 \t AIC =  15797.948869075708\n"
          ]
        }
      ],
      "source": [
        "print(\"ARMA(5,1):  \\t LL = \",results_ret_ar_5_ma_1.llf,\"\\t AIC = \",results_ret_ar_5_ma_1.aic)\n",
        "print(\"ARMA(1,5):  \\t LL = \",results_ret_ar_1_ma_5.llf,\"\\t AIC = \",results_ret_ar_1_ma_5.aic)"
      ]
    },
    {
      "cell_type": "code",
      "execution_count": 41,
      "metadata": {
        "colab": {
          "base_uri": "https://localhost:8080/",
          "height": 35
        },
        "colab_type": "code",
        "id": "KJhZGHGS7rVK",
        "outputId": "8710237d-1a9d-4d92-d971-d27dc2c48117"
      },
      "outputs": [
        {
          "name": "stdout",
          "output_type": "stream",
          "text": [
            "ARMA(3,2):  \t LL =  -7895.747490025735 \t AIC =  15805.49498005147\n"
          ]
        }
      ],
      "source": [
        "print(\"ARMA(3,2):  \\t LL = \",results_ret_ar_3_ma_2.llf,\"\\t AIC = \",results_ret_ar_3_ma_2.aic)"
      ]
    },
    {
      "cell_type": "markdown",
      "metadata": {
        "colab_type": "text",
        "id": "YI31aYxX7rVM"
      },
      "source": [
        "## Residuals for the New Model"
      ]
    },
    {
      "cell_type": "code",
      "execution_count": 42,
      "metadata": {
        "colab": {},
        "colab_type": "code",
        "id": "HmxaNSvP7rVN"
      },
      "outputs": [],
      "source": [
        "df['res_ret_ar_5_ma_1'] = results_ret_ar_5_ma_1.resid"
      ]
    },
    {
      "cell_type": "code",
      "execution_count": 48,
      "metadata": {
        "colab": {
          "base_uri": "https://localhost:8080/",
          "height": 293
        },
        "colab_type": "code",
        "id": "QDPVdqcw7rVP",
        "outputId": "ea65a50f-66d7-4fd0-aff1-41a17f038959"
      },
      "outputs": [
        {
          "data": {
            "image/png": "[encoded data removed]",
            "text/plain": [
              "<Figure size 640x480 with 1 Axes>"
            ]
          },
          "metadata": {},
          "output_type": "display_data"
        }
      ],
      "source": [
        "sgt.plot_acf(df.res_ret_ar_5_ma_1[1:], zero = False, lags = 40)\n",
        "plt.title(\"ACF of Residuals for Returns\",size=24)\n",
        "plt.ylim(-0.06, 0.04) \n",
        "plt.show()"
      ]
    },
    {
      "cell_type": "markdown",
      "metadata": {
        "colab_type": "text",
        "id": "IhY9bMUO7rVR"
      },
      "source": [
        "## ARMA Models for Prices"
      ]
    },
    {
      "cell_type": "code",
      "execution_count": 49,
      "metadata": {
        "colab": {
          "base_uri": "https://localhost:8080/",
          "height": 289
        },
        "colab_type": "code",
        "id": "qUbPZLss7rVR",
        "outputId": "c5b7d428-96a1-47d5-ff15-9b3268e3eca7"
      },
      "outputs": [
        {
          "data": {
            "image/png": "[encoded data removed]",
            "text/plain": [
              "<Figure size 640x480 with 1 Axes>"
            ]
          },
          "metadata": {},
          "output_type": "display_data"
        }
      ],
      "source": [
        "sgt.plot_acf(df.market_value, unbiased=True, zero = False, lags = 40)\n",
        "plt.title(\"Autocorrelation Function for Prices\",size=20)\n",
        "plt.show()"
      ]
    },
    {
      "cell_type": "code",
      "execution_count": 50,
      "metadata": {
        "colab": {
          "base_uri": "https://localhost:8080/",
          "height": 289
        },
        "colab_type": "code",
        "id": "Rs_4NlkC7rVT",
        "outputId": "03f3c30e-d0b8-4cfd-81b0-30d885728fd1"
      },
      "outputs": [
        {
          "data": {
            "image/png": "[encoded data removed]",
            "text/plain": [
              "<Figure size 640x480 with 1 Axes>"
            ]
          },
          "metadata": {},
          "output_type": "display_data"
        }
      ],
      "source": [
        "sgt.plot_pacf(df.market_value, lags = 40, alpha = 0.05, zero = False , method = ('ols'))\n",
        "plt.title(\"Partial Autocorrelation Function for Prices\",size=20)\n",
        "plt.show()"
      ]
    },
    {
      "cell_type": "code",
      "execution_count": 51,
      "metadata": {
        "colab": {
          "base_uri": "https://localhost:8080/",
          "height": 342
        },
        "colab_type": "code",
        "id": "6z24Qc5K7rVV",
        "outputId": "50002adc-1b1d-4647-fa87-d58ddf63815f"
      },
      "outputs": [
        {
          "data": {
            "text/html": [
              "<table class=\"simpletable\">\n",
              "<caption>SARIMAX Results</caption>\n",
              "<tr>\n",
              "  <th>Dep. Variable:</th>     <td>market_value</td>   <th>  No. Observations:  </th>    <td>5021</td>   \n",
              "</tr>\n",
              "<tr>\n",
              "  <th>Model:</th>            <td>ARIMA(1, 0, 1)</td>  <th>  Log Likelihood     </th> <td>-27621.875</td>\n",
              "</tr>\n",
              "<tr>\n",
              "  <th>Date:</th>            <td>Sun, 10 Mar 2024</td> <th>  AIC                </th>  <td>55251.749</td>\n",
              "</tr>\n",
              "<tr>\n",
              "  <th>Time:</th>                <td>18:09:30</td>     <th>  BIC                </th>  <td>55277.835</td>\n",
              "</tr>\n",
              "<tr>\n",
              "  <th>Sample:</th>             <td>01-07-1994</td>    <th>  HQIC               </th>  <td>55260.890</td>\n",
              "</tr>\n",
              "<tr>\n",
              "  <th></th>                   <td>- 04-05-2013</td>   <th>                     </th>      <td> </td>    \n",
              "</tr>\n",
              "<tr>\n",
              "  <th>Covariance Type:</th>        <td>opg</td>       <th>                     </th>      <td> </td>    \n",
              "</tr>\n",
              "</table>\n",
              "<table class=\"simpletable\">\n",
              "<tr>\n",
              "     <td></td>       <th>coef</th>     <th>std err</th>      <th>z</th>      <th>P>|z|</th>  <th>[0.025</th>    <th>0.975]</th>  \n",
              "</tr>\n",
              "<tr>\n",
              "  <th>const</th>  <td> 5089.6409</td> <td>  366.501</td> <td>   13.887</td> <td> 0.000</td> <td> 4371.312</td> <td> 5807.970</td>\n",
              "</tr>\n",
              "<tr>\n",
              "  <th>ar.L1</th>  <td>    0.9982</td> <td>    0.001</td> <td> 1189.159</td> <td> 0.000</td> <td>    0.997</td> <td>    1.000</td>\n",
              "</tr>\n",
              "<tr>\n",
              "  <th>ma.L1</th>  <td>   -0.0186</td> <td>    0.010</td> <td>   -1.894</td> <td> 0.058</td> <td>   -0.038</td> <td>    0.001</td>\n",
              "</tr>\n",
              "<tr>\n",
              "  <th>sigma2</th> <td> 3510.8350</td> <td>   41.068</td> <td>   85.489</td> <td> 0.000</td> <td> 3430.344</td> <td> 3591.326</td>\n",
              "</tr>\n",
              "</table>\n",
              "<table class=\"simpletable\">\n",
              "<tr>\n",
              "  <th>Ljung-Box (L1) (Q):</th>     <td>0.00</td> <th>  Jarque-Bera (JB):  </th> <td>3280.53</td>\n",
              "</tr>\n",
              "<tr>\n",
              "  <th>Prob(Q):</th>                <td>0.97</td> <th>  Prob(JB):          </th>  <td>0.00</td>  \n",
              "</tr>\n",
              "<tr>\n",
              "  <th>Heteroskedasticity (H):</th> <td>1.89</td> <th>  Skew:              </th>  <td>-0.19</td> \n",
              "</tr>\n",
              "<tr>\n",
              "  <th>Prob(H) (two-sided):</th>    <td>0.00</td> <th>  Kurtosis:          </th>  <td>6.94</td>  \n",
              "</tr>\n",
              "</table><br/><br/>Warnings:<br/>[1] Covariance matrix calculated using the outer product of gradients (complex-step)."
            ],
            "text/latex": [
              "\\begin{center}\n",
              "\\begin{tabular}{lclc}\n",
              "\\toprule\n",
              "\\textbf{Dep. Variable:}          &  market\\_value   & \\textbf{  No. Observations:  } &    5021     \\\\\n",
              "\\textbf{Model:}                  &  ARIMA(1, 0, 1)  & \\textbf{  Log Likelihood     } & -27621.875  \\\\\n",
              "\\textbf{Date:}                   & Sun, 10 Mar 2024 & \\textbf{  AIC                } & 55251.749   \\\\\n",
              "\\textbf{Time:}                   &     18:09:30     & \\textbf{  BIC                } & 55277.835   \\\\\n",
              "\\textbf{Sample:}                 &    01-07-1994    & \\textbf{  HQIC               } & 55260.890   \\\\\n",
              "\\textbf{}                        &   - 04-05-2013   & \\textbf{                     } &             \\\\\n",
              "\\textbf{Covariance Type:}        &       opg        & \\textbf{                     } &             \\\\\n",
              "\\bottomrule\n",
              "\\end{tabular}\n",
              "\\begin{tabular}{lcccccc}\n",
              "                & \\textbf{coef} & \\textbf{std err} & \\textbf{z} & \\textbf{P$> |$z$|$} & \\textbf{[0.025} & \\textbf{0.975]}  \\\\\n",
              "\\midrule\n",
              "\\textbf{const}  &    5089.6409  &      366.501     &    13.887  &         0.000        &     4371.312    &     5807.970     \\\\\n",
              "\\textbf{ar.L1}  &       0.9982  &        0.001     &  1189.159  &         0.000        &        0.997    &        1.000     \\\\\n",
              "\\textbf{ma.L1}  &      -0.0186  &        0.010     &    -1.894  &         0.058        &       -0.038    &        0.001     \\\\\n",
              "\\textbf{sigma2} &    3510.8350  &       41.068     &    85.489  &         0.000        &     3430.344    &     3591.326     \\\\\n",
              "\\bottomrule\n",
              "\\end{tabular}\n",
              "\\begin{tabular}{lclc}\n",
              "\\textbf{Ljung-Box (L1) (Q):}     & 0.00 & \\textbf{  Jarque-Bera (JB):  } & 3280.53  \\\\\n",
              "\\textbf{Prob(Q):}                & 0.97 & \\textbf{  Prob(JB):          } &   0.00   \\\\\n",
              "\\textbf{Heteroskedasticity (H):} & 1.89 & \\textbf{  Skew:              } &  -0.19   \\\\\n",
              "\\textbf{Prob(H) (two-sided):}    & 0.00 & \\textbf{  Kurtosis:          } &   6.94   \\\\\n",
              "\\bottomrule\n",
              "\\end{tabular}\n",
              "%\\caption{SARIMAX Results}\n",
              "\\end{center}\n",
              "\n",
              "Warnings: \\newline\n",
              " [1] Covariance matrix calculated using the outer product of gradients (complex-step)."
            ],
            "text/plain": [
              "<class 'statsmodels.iolib.summary.Summary'>\n",
              "\"\"\"\n",
              "                               SARIMAX Results                                \n",
              "==============================================================================\n",
              "Dep. Variable:           market_value   No. Observations:                 5021\n",
              "Model:                 ARIMA(1, 0, 1)   Log Likelihood              -27621.875\n",
              "Date:                Sun, 10 Mar 2024   AIC                          55251.749\n",
              "Time:                        18:09:30   BIC                          55277.835\n",
              "Sample:                    01-07-1994   HQIC                         55260.890\n",
              "                         - 04-05-2013                                         \n",
              "Covariance Type:                  opg                                         \n",
              "==============================================================================\n",
              "                 coef    std err          z      P>|z|      [0.025      0.975]\n",
              "------------------------------------------------------------------------------\n",
              "const       5089.6409    366.501     13.887      0.000    4371.312    5807.970\n",
              "ar.L1          0.9982      0.001   1189.159      0.000       0.997       1.000\n",
              "ma.L1         -0.0186      0.010     -1.894      0.058      -0.038       0.001\n",
              "sigma2      3510.8350     41.068     85.489      0.000    3430.344    3591.326\n",
              "===================================================================================\n",
              "Ljung-Box (L1) (Q):                   0.00   Jarque-Bera (JB):              3280.53\n",
              "Prob(Q):                              0.97   Prob(JB):                         0.00\n",
              "Heteroskedasticity (H):               1.89   Skew:                            -0.19\n",
              "Prob(H) (two-sided):                  0.00   Kurtosis:                         6.94\n",
              "===================================================================================\n",
              "\n",
              "Warnings:\n",
              "[1] Covariance matrix calculated using the outer product of gradients (complex-step).\n",
              "\"\"\""
            ]
          },
          "execution_count": 51,
          "metadata": {},
          "output_type": "execute_result"
        }
      ],
      "source": [
        "model_ar_1_ma_1 = ARIMA(df.market_value, order=(1,0,1))\n",
        "results_ar_1_ma_1 = model_ar_1_ma_1.fit()\n",
        "results_ar_1_ma_1.summary()"
      ]
    },
    {
      "cell_type": "code",
      "execution_count": 52,
      "metadata": {
        "colab": {},
        "colab_type": "code",
        "id": "_J0xWndM7rVX"
      },
      "outputs": [],
      "source": [
        "df['res_ar_1_ma_1'] = results_ar_1_ma_1.resid"
      ]
    },
    {
      "cell_type": "code",
      "execution_count": 54,
      "metadata": {
        "colab": {
          "base_uri": "https://localhost:8080/",
          "height": 289
        },
        "colab_type": "code",
        "id": "sOvAu_M87rVZ",
        "outputId": "e5281fe9-613a-435e-db2f-ea3f6ad74c9b"
      },
      "outputs": [
        {
          "data": {
            "image/png": "[encoded data removed]",
            "text/plain": [
              "<Figure size 640x480 with 1 Axes>"
            ]
          },
          "metadata": {},
          "output_type": "display_data"
        }
      ],
      "source": [
        "sgt.plot_acf(df.res_ar_1_ma_1, zero = False, lags = 40)\n",
        "plt.title(\"ACF Of Residuals of Prices\",size=20)\n",
        "plt.ylim(-0.06, 0.04) \n",
        "plt.show()"
      ]
    },
    {
      "cell_type": "code",
      "execution_count": 56,
      "metadata": {
        "colab": {
          "base_uri": "https://localhost:8080/",
          "height": 751
        },
        "colab_type": "code",
        "id": "ogsW8Snj7rVb",
        "outputId": "fb5ef091-b832-4f82-ae5d-1fcc7a11b7a0"
      },
      "outputs": [
        {
          "data": {
            "text/html": [
              "<table class=\"simpletable\">\n",
              "<caption>SARIMAX Results</caption>\n",
              "<tr>\n",
              "  <th>Dep. Variable:</th>     <td>market_value</td>   <th>  No. Observations:  </th>    <td>5021</td>   \n",
              "</tr>\n",
              "<tr>\n",
              "  <th>Model:</th>            <td>ARIMA(6, 0, 6)</td>  <th>  Log Likelihood     </th> <td>-27591.277</td>\n",
              "</tr>\n",
              "<tr>\n",
              "  <th>Date:</th>            <td>Sun, 10 Mar 2024</td> <th>  AIC                </th>  <td>55210.553</td>\n",
              "</tr>\n",
              "<tr>\n",
              "  <th>Time:</th>                <td>18:11:34</td>     <th>  BIC                </th>  <td>55301.853</td>\n",
              "</tr>\n",
              "<tr>\n",
              "  <th>Sample:</th>             <td>01-07-1994</td>    <th>  HQIC               </th>  <td>55242.546</td>\n",
              "</tr>\n",
              "<tr>\n",
              "  <th></th>                   <td>- 04-05-2013</td>   <th>                     </th>      <td> </td>    \n",
              "</tr>\n",
              "<tr>\n",
              "  <th>Covariance Type:</th>        <td>opg</td>       <th>                     </th>      <td> </td>    \n",
              "</tr>\n",
              "</table>\n",
              "<table class=\"simpletable\">\n",
              "<tr>\n",
              "     <td></td>       <th>coef</th>     <th>std err</th>      <th>z</th>      <th>P>|z|</th>  <th>[0.025</th>    <th>0.975]</th>  \n",
              "</tr>\n",
              "<tr>\n",
              "  <th>const</th>  <td> 5089.6408</td> <td>  511.822</td> <td>    9.944</td> <td> 0.000</td> <td> 4086.488</td> <td> 6092.793</td>\n",
              "</tr>\n",
              "<tr>\n",
              "  <th>ar.L1</th>  <td>    0.7381</td> <td>    0.925</td> <td>    0.798</td> <td> 0.425</td> <td>   -1.075</td> <td>    2.551</td>\n",
              "</tr>\n",
              "<tr>\n",
              "  <th>ar.L2</th>  <td>    0.2446</td> <td>    1.553</td> <td>    0.158</td> <td> 0.875</td> <td>   -2.799</td> <td>    3.288</td>\n",
              "</tr>\n",
              "<tr>\n",
              "  <th>ar.L3</th>  <td>   -0.4061</td> <td>    1.221</td> <td>   -0.333</td> <td> 0.739</td> <td>   -2.798</td> <td>    1.986</td>\n",
              "</tr>\n",
              "<tr>\n",
              "  <th>ar.L4</th>  <td>    0.3422</td> <td>    0.757</td> <td>    0.452</td> <td> 0.651</td> <td>   -1.142</td> <td>    1.827</td>\n",
              "</tr>\n",
              "<tr>\n",
              "  <th>ar.L5</th>  <td>   -0.1100</td> <td>    0.418</td> <td>   -0.263</td> <td> 0.792</td> <td>   -0.929</td> <td>    0.709</td>\n",
              "</tr>\n",
              "<tr>\n",
              "  <th>ar.L6</th>  <td>    0.1891</td> <td>    0.253</td> <td>    0.746</td> <td> 0.455</td> <td>   -0.307</td> <td>    0.686</td>\n",
              "</tr>\n",
              "<tr>\n",
              "  <th>ma.L1</th>  <td>    0.2407</td> <td>    0.925</td> <td>    0.260</td> <td> 0.795</td> <td>   -1.572</td> <td>    2.053</td>\n",
              "</tr>\n",
              "<tr>\n",
              "  <th>ma.L2</th>  <td>   -0.0389</td> <td>    0.667</td> <td>   -0.058</td> <td> 0.953</td> <td>   -1.345</td> <td>    1.268</td>\n",
              "</tr>\n",
              "<tr>\n",
              "  <th>ma.L3</th>  <td>    0.3344</td> <td>    0.562</td> <td>    0.595</td> <td> 0.552</td> <td>   -0.766</td> <td>    1.435</td>\n",
              "</tr>\n",
              "<tr>\n",
              "  <th>ma.L4</th>  <td>    0.0823</td> <td>    0.243</td> <td>    0.339</td> <td> 0.734</td> <td>   -0.393</td> <td>    0.558</td>\n",
              "</tr>\n",
              "<tr>\n",
              "  <th>ma.L5</th>  <td>    0.1449</td> <td>    0.300</td> <td>    0.483</td> <td> 0.629</td> <td>   -0.443</td> <td>    0.733</td>\n",
              "</tr>\n",
              "<tr>\n",
              "  <th>ma.L6</th>  <td>   -0.0865</td> <td>    0.085</td> <td>   -1.018</td> <td> 0.309</td> <td>   -0.253</td> <td>    0.080</td>\n",
              "</tr>\n",
              "<tr>\n",
              "  <th>sigma2</th> <td> 3468.7508</td> <td>   43.249</td> <td>   80.204</td> <td> 0.000</td> <td> 3383.984</td> <td> 3553.518</td>\n",
              "</tr>\n",
              "</table>\n",
              "<table class=\"simpletable\">\n",
              "<tr>\n",
              "  <th>Ljung-Box (L1) (Q):</th>     <td>0.00</td> <th>  Jarque-Bera (JB):  </th> <td>2960.91</td>\n",
              "</tr>\n",
              "<tr>\n",
              "  <th>Prob(Q):</th>                <td>0.98</td> <th>  Prob(JB):          </th>  <td>0.00</td>  \n",
              "</tr>\n",
              "<tr>\n",
              "  <th>Heteroskedasticity (H):</th> <td>1.89</td> <th>  Skew:              </th>  <td>-0.29</td> \n",
              "</tr>\n",
              "<tr>\n",
              "  <th>Prob(H) (two-sided):</th>    <td>0.00</td> <th>  Kurtosis:          </th>  <td>6.72</td>  \n",
              "</tr>\n",
              "</table><br/><br/>Warnings:<br/>[1] Covariance matrix calculated using the outer product of gradients (complex-step)."
            ],
            "text/latex": [
              "\\begin{center}\n",
              "\\begin{tabular}{lclc}\n",
              "\\toprule\n",
              "\\textbf{Dep. Variable:}          &  market\\_value   & \\textbf{  No. Observations:  } &    5021     \\\\\n",
              "\\textbf{Model:}                  &  ARIMA(6, 0, 6)  & \\textbf{  Log Likelihood     } & -27591.277  \\\\\n",
              "\\textbf{Date:}                   & Sun, 10 Mar 2024 & \\textbf{  AIC                } & 55210.553   \\\\\n",
              "\\textbf{Time:}                   &     18:11:34     & \\textbf{  BIC                } & 55301.853   \\\\\n",
              "\\textbf{Sample:}                 &    01-07-1994    & \\textbf{  HQIC               } & 55242.546   \\\\\n",
              "\\textbf{}                        &   - 04-05-2013   & \\textbf{                     } &             \\\\\n",
              "\\textbf{Covariance Type:}        &       opg        & \\textbf{                     } &             \\\\\n",
              "\\bottomrule\n",
              "\\end{tabular}\n",
              "\\begin{tabular}{lcccccc}\n",
              "                & \\textbf{coef} & \\textbf{std err} & \\textbf{z} & \\textbf{P$> |$z$|$} & \\textbf{[0.025} & \\textbf{0.975]}  \\\\\n",
              "\\midrule\n",
              "\\textbf{const}  &    5089.6408  &      511.822     &     9.944  &         0.000        &     4086.488    &     6092.793     \\\\\n",
              "\\textbf{ar.L1}  &       0.7381  &        0.925     &     0.798  &         0.425        &       -1.075    &        2.551     \\\\\n",
              "\\textbf{ar.L2}  &       0.2446  &        1.553     &     0.158  &         0.875        &       -2.799    &        3.288     \\\\\n",
              "\\textbf{ar.L3}  &      -0.4061  &        1.221     &    -0.333  &         0.739        &       -2.798    &        1.986     \\\\\n",
              "\\textbf{ar.L4}  &       0.3422  &        0.757     &     0.452  &         0.651        &       -1.142    &        1.827     \\\\\n",
              "\\textbf{ar.L5}  &      -0.1100  &        0.418     &    -0.263  &         0.792        &       -0.929    &        0.709     \\\\\n",
              "\\textbf{ar.L6}  &       0.1891  &        0.253     &     0.746  &         0.455        &       -0.307    &        0.686     \\\\\n",
              "\\textbf{ma.L1}  &       0.2407  &        0.925     &     0.260  &         0.795        &       -1.572    &        2.053     \\\\\n",
              "\\textbf{ma.L2}  &      -0.0389  &        0.667     &    -0.058  &         0.953        &       -1.345    &        1.268     \\\\\n",
              "\\textbf{ma.L3}  &       0.3344  &        0.562     &     0.595  &         0.552        &       -0.766    &        1.435     \\\\\n",
              "\\textbf{ma.L4}  &       0.0823  &        0.243     &     0.339  &         0.734        &       -0.393    &        0.558     \\\\\n",
              "\\textbf{ma.L5}  &       0.1449  &        0.300     &     0.483  &         0.629        &       -0.443    &        0.733     \\\\\n",
              "\\textbf{ma.L6}  &      -0.0865  &        0.085     &    -1.018  &         0.309        &       -0.253    &        0.080     \\\\\n",
              "\\textbf{sigma2} &    3468.7508  &       43.249     &    80.204  &         0.000        &     3383.984    &     3553.518     \\\\\n",
              "\\bottomrule\n",
              "\\end{tabular}\n",
              "\\begin{tabular}{lclc}\n",
              "\\textbf{Ljung-Box (L1) (Q):}     & 0.00 & \\textbf{  Jarque-Bera (JB):  } & 2960.91  \\\\\n",
              "\\textbf{Prob(Q):}                & 0.98 & \\textbf{  Prob(JB):          } &   0.00   \\\\\n",
              "\\textbf{Heteroskedasticity (H):} & 1.89 & \\textbf{  Skew:              } &  -0.29   \\\\\n",
              "\\textbf{Prob(H) (two-sided):}    & 0.00 & \\textbf{  Kurtosis:          } &   6.72   \\\\\n",
              "\\bottomrule\n",
              "\\end{tabular}\n",
              "%\\caption{SARIMAX Results}\n",
              "\\end{center}\n",
              "\n",
              "Warnings: \\newline\n",
              " [1] Covariance matrix calculated using the outer product of gradients (complex-step)."
            ],
            "text/plain": [
              "<class 'statsmodels.iolib.summary.Summary'>\n",
              "\"\"\"\n",
              "                               SARIMAX Results                                \n",
              "==============================================================================\n",
              "Dep. Variable:           market_value   No. Observations:                 5021\n",
              "Model:                 ARIMA(6, 0, 6)   Log Likelihood              -27591.277\n",
              "Date:                Sun, 10 Mar 2024   AIC                          55210.553\n",
              "Time:                        18:11:34   BIC                          55301.853\n",
              "Sample:                    01-07-1994   HQIC                         55242.546\n",
              "                         - 04-05-2013                                         \n",
              "Covariance Type:                  opg                                         \n",
              "==============================================================================\n",
              "                 coef    std err          z      P>|z|      [0.025      0.975]\n",
              "------------------------------------------------------------------------------\n",
              "const       5089.6408    511.822      9.944      0.000    4086.488    6092.793\n",
              "ar.L1          0.7381      0.925      0.798      0.425      -1.075       2.551\n",
              "ar.L2          0.2446      1.553      0.158      0.875      -2.799       3.288\n",
              "ar.L3         -0.4061      1.221     -0.333      0.739      -2.798       1.986\n",
              "ar.L4          0.3422      0.757      0.452      0.651      -1.142       1.827\n",
              "ar.L5         -0.1100      0.418     -0.263      0.792      -0.929       0.709\n",
              "ar.L6          0.1891      0.253      0.746      0.455      -0.307       0.686\n",
              "ma.L1          0.2407      0.925      0.260      0.795      -1.572       2.053\n",
              "ma.L2         -0.0389      0.667     -0.058      0.953      -1.345       1.268\n",
              "ma.L3          0.3344      0.562      0.595      0.552      -0.766       1.435\n",
              "ma.L4          0.0823      0.243      0.339      0.734      -0.393       0.558\n",
              "ma.L5          0.1449      0.300      0.483      0.629      -0.443       0.733\n",
              "ma.L6         -0.0865      0.085     -1.018      0.309      -0.253       0.080\n",
              "sigma2      3468.7508     43.249     80.204      0.000    3383.984    3553.518\n",
              "===================================================================================\n",
              "Ljung-Box (L1) (Q):                   0.00   Jarque-Bera (JB):              2960.91\n",
              "Prob(Q):                              0.98   Prob(JB):                         0.00\n",
              "Heteroskedasticity (H):               1.89   Skew:                            -0.29\n",
              "Prob(H) (two-sided):                  0.00   Kurtosis:                         6.72\n",
              "===================================================================================\n",
              "\n",
              "Warnings:\n",
              "[1] Covariance matrix calculated using the outer product of gradients (complex-step).\n",
              "\"\"\""
            ]
          },
          "execution_count": 56,
          "metadata": {},
          "output_type": "execute_result"
        }
      ],
      "source": [
        "model_ar_6_ma_6 = ARIMA(df.market_value, order=(6,0,6))\n",
        "results_ar_6_ma_6 = model_ar_6_ma_6.fit()\n",
        "#results_ar_6_ma_6 = model_ar_6_ma_6.fit(start_ar_lags = 11)\n",
        "results_ar_6_ma_6.summary()"
      ]
    },
    {
      "cell_type": "code",
      "execution_count": 57,
      "metadata": {
        "colab": {
          "base_uri": "https://localhost:8080/",
          "height": 588
        },
        "colab_type": "code",
        "id": "0oI2JECD7rVg",
        "outputId": "6e88919e-27b9-4afc-cafa-fe3abfcd17d7"
      },
      "outputs": [
        {
          "data": {
            "text/html": [
              "<table class=\"simpletable\">\n",
              "<caption>SARIMAX Results</caption>\n",
              "<tr>\n",
              "  <th>Dep. Variable:</th>     <td>market_value</td>   <th>  No. Observations:  </th>    <td>5021</td>   \n",
              "</tr>\n",
              "<tr>\n",
              "  <th>Model:</th>            <td>ARIMA(6, 0, 2)</td>  <th>  Log Likelihood     </th> <td>-27590.600</td>\n",
              "</tr>\n",
              "<tr>\n",
              "  <th>Date:</th>            <td>Sun, 10 Mar 2024</td> <th>  AIC                </th>  <td>55201.200</td>\n",
              "</tr>\n",
              "<tr>\n",
              "  <th>Time:</th>                <td>18:15:36</td>     <th>  BIC                </th>  <td>55266.414</td>\n",
              "</tr>\n",
              "<tr>\n",
              "  <th>Sample:</th>             <td>01-07-1994</td>    <th>  HQIC               </th>  <td>55224.052</td>\n",
              "</tr>\n",
              "<tr>\n",
              "  <th></th>                   <td>- 04-05-2013</td>   <th>                     </th>      <td> </td>    \n",
              "</tr>\n",
              "<tr>\n",
              "  <th>Covariance Type:</th>        <td>opg</td>       <th>                     </th>      <td> </td>    \n",
              "</tr>\n",
              "</table>\n",
              "<table class=\"simpletable\">\n",
              "<tr>\n",
              "     <td></td>       <th>coef</th>     <th>std err</th>      <th>z</th>      <th>P>|z|</th>  <th>[0.025</th>    <th>0.975]</th>  \n",
              "</tr>\n",
              "<tr>\n",
              "  <th>const</th>  <td> 5089.6408</td> <td> 1477.152</td> <td>    3.446</td> <td> 0.001</td> <td> 2194.476</td> <td> 7984.805</td>\n",
              "</tr>\n",
              "<tr>\n",
              "  <th>ar.L1</th>  <td>    1.1942</td> <td>    0.051</td> <td>   23.416</td> <td> 0.000</td> <td>    1.094</td> <td>    1.294</td>\n",
              "</tr>\n",
              "<tr>\n",
              "  <th>ar.L2</th>  <td>   -1.0585</td> <td>    0.070</td> <td>  -15.022</td> <td> 0.000</td> <td>   -1.197</td> <td>   -0.920</td>\n",
              "</tr>\n",
              "<tr>\n",
              "  <th>ar.L3</th>  <td>    0.7823</td> <td>    0.047</td> <td>   16.604</td> <td> 0.000</td> <td>    0.690</td> <td>    0.875</td>\n",
              "</tr>\n",
              "<tr>\n",
              "  <th>ar.L4</th>  <td>    0.0841</td> <td>    0.018</td> <td>    4.544</td> <td> 0.000</td> <td>    0.048</td> <td>    0.120</td>\n",
              "</tr>\n",
              "<tr>\n",
              "  <th>ar.L5</th>  <td>   -0.0940</td> <td>    0.015</td> <td>   -6.108</td> <td> 0.000</td> <td>   -0.124</td> <td>   -0.064</td>\n",
              "</tr>\n",
              "<tr>\n",
              "  <th>ar.L6</th>  <td>    0.0913</td> <td>    0.010</td> <td>    9.218</td> <td> 0.000</td> <td>    0.072</td> <td>    0.111</td>\n",
              "</tr>\n",
              "<tr>\n",
              "  <th>ma.L1</th>  <td>   -0.2148</td> <td>    0.050</td> <td>   -4.333</td> <td> 0.000</td> <td>   -0.312</td> <td>   -0.118</td>\n",
              "</tr>\n",
              "<tr>\n",
              "  <th>ma.L2</th>  <td>    0.8216</td> <td>    0.045</td> <td>   18.158</td> <td> 0.000</td> <td>    0.733</td> <td>    0.910</td>\n",
              "</tr>\n",
              "<tr>\n",
              "  <th>sigma2</th> <td> 3477.2538</td> <td>   42.352</td> <td>   82.104</td> <td> 0.000</td> <td> 3394.246</td> <td> 3560.261</td>\n",
              "</tr>\n",
              "</table>\n",
              "<table class=\"simpletable\">\n",
              "<tr>\n",
              "  <th>Ljung-Box (L1) (Q):</th>     <td>0.00</td> <th>  Jarque-Bera (JB):  </th> <td>3014.73</td>\n",
              "</tr>\n",
              "<tr>\n",
              "  <th>Prob(Q):</th>                <td>0.98</td> <th>  Prob(JB):          </th>  <td>0.00</td>  \n",
              "</tr>\n",
              "<tr>\n",
              "  <th>Heteroskedasticity (H):</th> <td>1.89</td> <th>  Skew:              </th>  <td>-0.29</td> \n",
              "</tr>\n",
              "<tr>\n",
              "  <th>Prob(H) (two-sided):</th>    <td>0.00</td> <th>  Kurtosis:          </th>  <td>6.75</td>  \n",
              "</tr>\n",
              "</table><br/><br/>Warnings:<br/>[1] Covariance matrix calculated using the outer product of gradients (complex-step)."
            ],
            "text/latex": [
              "\\begin{center}\n",
              "\\begin{tabular}{lclc}\n",
              "\\toprule\n",
              "\\textbf{Dep. Variable:}          &  market\\_value   & \\textbf{  No. Observations:  } &    5021     \\\\\n",
              "\\textbf{Model:}                  &  ARIMA(6, 0, 2)  & \\textbf{  Log Likelihood     } & -27590.600  \\\\\n",
              "\\textbf{Date:}                   & Sun, 10 Mar 2024 & \\textbf{  AIC                } & 55201.200   \\\\\n",
              "\\textbf{Time:}                   &     18:15:36     & \\textbf{  BIC                } & 55266.414   \\\\\n",
              "\\textbf{Sample:}                 &    01-07-1994    & \\textbf{  HQIC               } & 55224.052   \\\\\n",
              "\\textbf{}                        &   - 04-05-2013   & \\textbf{                     } &             \\\\\n",
              "\\textbf{Covariance Type:}        &       opg        & \\textbf{                     } &             \\\\\n",
              "\\bottomrule\n",
              "\\end{tabular}\n",
              "\\begin{tabular}{lcccccc}\n",
              "                & \\textbf{coef} & \\textbf{std err} & \\textbf{z} & \\textbf{P$> |$z$|$} & \\textbf{[0.025} & \\textbf{0.975]}  \\\\\n",
              "\\midrule\n",
              "\\textbf{const}  &    5089.6408  &     1477.152     &     3.446  &         0.001        &     2194.476    &     7984.805     \\\\\n",
              "\\textbf{ar.L1}  &       1.1942  &        0.051     &    23.416  &         0.000        &        1.094    &        1.294     \\\\\n",
              "\\textbf{ar.L2}  &      -1.0585  &        0.070     &   -15.022  &         0.000        &       -1.197    &       -0.920     \\\\\n",
              "\\textbf{ar.L3}  &       0.7823  &        0.047     &    16.604  &         0.000        &        0.690    &        0.875     \\\\\n",
              "\\textbf{ar.L4}  &       0.0841  &        0.018     &     4.544  &         0.000        &        0.048    &        0.120     \\\\\n",
              "\\textbf{ar.L5}  &      -0.0940  &        0.015     &    -6.108  &         0.000        &       -0.124    &       -0.064     \\\\\n",
              "\\textbf{ar.L6}  &       0.0913  &        0.010     &     9.218  &         0.000        &        0.072    &        0.111     \\\\\n",
              "\\textbf{ma.L1}  &      -0.2148  &        0.050     &    -4.333  &         0.000        &       -0.312    &       -0.118     \\\\\n",
              "\\textbf{ma.L2}  &       0.8216  &        0.045     &    18.158  &         0.000        &        0.733    &        0.910     \\\\\n",
              "\\textbf{sigma2} &    3477.2538  &       42.352     &    82.104  &         0.000        &     3394.246    &     3560.261     \\\\\n",
              "\\bottomrule\n",
              "\\end{tabular}\n",
              "\\begin{tabular}{lclc}\n",
              "\\textbf{Ljung-Box (L1) (Q):}     & 0.00 & \\textbf{  Jarque-Bera (JB):  } & 3014.73  \\\\\n",
              "\\textbf{Prob(Q):}                & 0.98 & \\textbf{  Prob(JB):          } &   0.00   \\\\\n",
              "\\textbf{Heteroskedasticity (H):} & 1.89 & \\textbf{  Skew:              } &  -0.29   \\\\\n",
              "\\textbf{Prob(H) (two-sided):}    & 0.00 & \\textbf{  Kurtosis:          } &   6.75   \\\\\n",
              "\\bottomrule\n",
              "\\end{tabular}\n",
              "%\\caption{SARIMAX Results}\n",
              "\\end{center}\n",
              "\n",
              "Warnings: \\newline\n",
              " [1] Covariance matrix calculated using the outer product of gradients (complex-step)."
            ],
            "text/plain": [
              "<class 'statsmodels.iolib.summary.Summary'>\n",
              "\"\"\"\n",
              "                               SARIMAX Results                                \n",
              "==============================================================================\n",
              "Dep. Variable:           market_value   No. Observations:                 5021\n",
              "Model:                 ARIMA(6, 0, 2)   Log Likelihood              -27590.600\n",
              "Date:                Sun, 10 Mar 2024   AIC                          55201.200\n",
              "Time:                        18:15:36   BIC                          55266.414\n",
              "Sample:                    01-07-1994   HQIC                         55224.052\n",
              "                         - 04-05-2013                                         \n",
              "Covariance Type:                  opg                                         \n",
              "==============================================================================\n",
              "                 coef    std err          z      P>|z|      [0.025      0.975]\n",
              "------------------------------------------------------------------------------\n",
              "const       5089.6408   1477.152      3.446      0.001    2194.476    7984.805\n",
              "ar.L1          1.1942      0.051     23.416      0.000       1.094       1.294\n",
              "ar.L2         -1.0585      0.070    -15.022      0.000      -1.197      -0.920\n",
              "ar.L3          0.7823      0.047     16.604      0.000       0.690       0.875\n",
              "ar.L4          0.0841      0.018      4.544      0.000       0.048       0.120\n",
              "ar.L5         -0.0940      0.015     -6.108      0.000      -0.124      -0.064\n",
              "ar.L6          0.0913      0.010      9.218      0.000       0.072       0.111\n",
              "ma.L1         -0.2148      0.050     -4.333      0.000      -0.312      -0.118\n",
              "ma.L2          0.8216      0.045     18.158      0.000       0.733       0.910\n",
              "sigma2      3477.2538     42.352     82.104      0.000    3394.246    3560.261\n",
              "===================================================================================\n",
              "Ljung-Box (L1) (Q):                   0.00   Jarque-Bera (JB):              3014.73\n",
              "Prob(Q):                              0.98   Prob(JB):                         0.00\n",
              "Heteroskedasticity (H):               1.89   Skew:                            -0.29\n",
              "Prob(H) (two-sided):                  0.00   Kurtosis:                         6.75\n",
              "===================================================================================\n",
              "\n",
              "Warnings:\n",
              "[1] Covariance matrix calculated using the outer product of gradients (complex-step).\n",
              "\"\"\""
            ]
          },
          "execution_count": 57,
          "metadata": {},
          "output_type": "execute_result"
        }
      ],
      "source": [
        "model_ar_6_ma_2 = ARIMA(df.market_value, order=(6,0,2))\n",
        "results_ar_6_ma_2 = model_ar_6_ma_2.fit()\n",
        "results_ar_6_ma_2.summary()"
      ]
    },
    {
      "cell_type": "code",
      "execution_count": 60,
      "metadata": {
        "colab": {
          "base_uri": "https://localhost:8080/",
          "height": 289
        },
        "colab_type": "code",
        "id": "L6gzkgzy7rVk",
        "outputId": "d150e53e-1280-414d-9fe9-04036b8fad37"
      },
      "outputs": [
        {
          "data": {
            "image/png": "[encoded data removed]",
            "text/plain": [
              "<Figure size 640x480 with 1 Axes>"
            ]
          },
          "metadata": {},
          "output_type": "display_data"
        }
      ],
      "source": [
        "df['res_ar_6_ma_2'] = results_ar_6_ma_2.resid\n",
        "sgt.plot_acf(df.res_ar_6_ma_2, zero = False, lags = 40)\n",
        "plt.title(\"ACF Of Residuals of Prices\",size=20)\n",
        "plt.ylim(-0.04, 0.04)\n",
        "plt.show()"
      ]
    },
    {
      "cell_type": "markdown",
      "metadata": {
        "colab_type": "text",
        "id": "S0ijVg3j7rVm"
      },
      "source": [
        "## ARMA for Returns vs ARMA for Prices"
      ]
    },
    {
      "cell_type": "code",
      "execution_count": 61,
      "metadata": {
        "colab": {
          "base_uri": "https://localhost:8080/",
          "height": 52
        },
        "colab_type": "code",
        "id": "MqcYIyue7rVn",
        "outputId": "fd92815d-68ac-4eeb-bb00-2367e6a66c7d"
      },
      "outputs": [
        {
          "name": "stdout",
          "output_type": "stream",
          "text": [
            "ARMA(6,2):  \t LL =  -27590.599979404935 \t AIC =  55201.19995880987\n",
            "ARMA(5,1):  \t LL =  -7889.311305453215 \t AIC =  15794.62261090643\n"
          ]
        }
      ],
      "source": [
        "print(\"ARMA(6,2):  \\t LL = \", results_ar_6_ma_2.llf, \"\\t AIC = \", results_ar_6_ma_2.aic)\n",
        "print(\"ARMA(5,1):  \\t LL = \", results_ret_ar_5_ma_1.llf, \"\\t AIC = \", results_ret_ar_5_ma_1.aic)"
      ]
    }
  ],
  "metadata": {
    "colab": {
      "name": "9_ARMA .ipynb",
      "provenance": []
    },
    "kernelspec": {
      "display_name": "Python 3",
      "language": "python",
      "name": "python3"
    },
    "language_info": {
      "codemirror_mode": {
        "name": "ipython",
        "version": 3
      },
      "file_extension": ".py",
      "mimetype": "text/x-python",
      "name": "python",
      "nbconvert_exporter": "python",
      "pygments_lexer": "ipython3",
      "version": "3.10.6"
    }
  },
  "nbformat": 4,
  "nbformat_minor": 0
}
